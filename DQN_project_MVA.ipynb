{
  "nbformat": 4,
  "nbformat_minor": 0,
  "metadata": {
    "kernelspec": {
      "display_name": "Python 3",
      "language": "python",
      "name": "python3"
    },
    "language_info": {
      "codemirror_mode": {
        "name": "ipython",
        "version": 3
      },
      "file_extension": ".py",
      "mimetype": "text/x-python",
      "name": "python",
      "nbconvert_exporter": "python",
      "pygments_lexer": "ipython3",
      "version": "3.5.7"
    },
    "colab": {
      "name": "DQN_project_MVA.ipynb",
      "provenance": [],
      "collapsed_sections": []
    }
  },
  "cells": [
    {
      "cell_type": "markdown",
      "metadata": {
        "id": "yMaDmzcoyPb-",
        "colab_type": "text"
      },
      "source": [
        "**You may need to install [OpenCV](https://pypi.python.org/pypi/opencv-python) and [scikit-video](http://www.scikit-video.org/stable/).**"
      ]
    },
    {
      "cell_type": "code",
      "metadata": {
        "id": "pjreurLZGy6q",
        "colab_type": "code",
        "outputId": "aecc3db1-8d5f-415c-99bd-b400c14cc27f",
        "colab": {
          "base_uri": "https://localhost:8080/",
          "height": 173
        }
      },
      "source": [
        "!pip install scikit-video"
      ],
      "execution_count": 0,
      "outputs": [
        {
          "output_type": "stream",
          "text": [
            "Collecting scikit-video\n",
            "\u001b[?25l  Downloading https://files.pythonhosted.org/packages/b1/a6/c69cad508139a342810ae46e946ebb3256aa6e42f690d901bb68f50582e3/scikit_video-1.1.11-py2.py3-none-any.whl (2.3MB)\n",
            "\u001b[K     |████████████████████████████████| 2.3MB 4.7MB/s \n",
            "\u001b[?25hRequirement already satisfied: scipy in /usr/local/lib/python3.6/dist-packages (from scikit-video) (1.4.1)\n",
            "Requirement already satisfied: pillow in /usr/local/lib/python3.6/dist-packages (from scikit-video) (6.2.2)\n",
            "Requirement already satisfied: numpy in /usr/local/lib/python3.6/dist-packages (from scikit-video) (1.17.5)\n",
            "Installing collected packages: scikit-video\n",
            "Successfully installed scikit-video-1.1.11\n"
          ],
          "name": "stdout"
        }
      ]
    },
    {
      "cell_type": "code",
      "metadata": {
        "id": "KFBCVDhNyPcS",
        "colab_type": "code",
        "colab": {}
      },
      "source": [
        "import keras\n",
        "import numpy as np\n",
        "import io\n",
        "import base64\n",
        "from IPython.display import HTML\n",
        "import skvideo.io\n",
        "import cv2\n",
        "import json\n",
        "import matplotlib.pyplot as plt\n",
        "\n",
        "from keras.models import Sequential,model_from_json\n",
        "from keras.layers.core import Dense\n",
        "from keras.optimizers import sgd\n",
        "from keras.layers import Conv2D, MaxPooling2D, Activation, AveragePooling2D,Reshape,BatchNormalization\n",
        "from keras.layers import *\n",
        "from keras.optimizers import *\n",
        "\n",
        "from keras.models import Model\n",
        "from keras.engine.topology import Layer\n",
        "from keras import initializers, regularizers, constraints, optimizers, layers"
      ],
      "execution_count": 0,
      "outputs": []
    },
    {
      "cell_type": "markdown",
      "metadata": {
        "id": "nu1duEXhyPch",
        "colab_type": "text"
      },
      "source": [
        "# MiniProject on Deep Reinforcement Learning"
      ]
    },
    {
      "cell_type": "markdown",
      "metadata": {
        "id": "0VYYSYrFyPcj",
        "colab_type": "text"
      },
      "source": [
        "__Notations__: $E_p$ is the expectation under probability $p$. Please justify each of your answer and widely comment your code."
      ]
    },
    {
      "cell_type": "markdown",
      "metadata": {
        "id": "gTPGF87lyPcl",
        "colab_type": "text"
      },
      "source": [
        "# Context"
      ]
    },
    {
      "cell_type": "markdown",
      "metadata": {
        "id": "3LCSKNnvyPcn",
        "colab_type": "text"
      },
      "source": [
        "In a reinforcement learning algorithm, we modelize each step $t$ as an action $a_t$ obtained from a state $s_t$, i.e. $\\{(a_{t},s_{t})_{t\\leq T}\\}$ having the Markov property. We consider a discount factor $\\gamma \\in [0,1]$ that ensures convergence. The goal is to find among all the policies $\\pi$, one that maximizes the expected reward:\n",
        "\n",
        "\\begin{equation*}\n",
        "R(\\pi)=\\sum_{t\\leq T}E_{p^{\\pi}}[\\gamma^t r(s_{t},a_{t})] \\> ,\n",
        "\\end{equation*}\n",
        "\n",
        "where: \n",
        "\\begin{equation*}p^{\\pi}(a_{0},a_{1},s_{1},...,a_{T},s_{T})=p(a_{0})\\prod_{t=1}^{T}\\pi(a_{t}|s_{t})p(s_{t+1}|s_{t},a_{t}) \\> .\n",
        "\\end{equation*}\n",
        "\n",
        "We note the $Q$-function:\n",
        "\n",
        "\\begin{equation*}Q^\\pi(s,a)=E_{p^{\\pi}}[\\sum_{t\\leq T}\\gamma^{t}r(s_{t},a_{t})|s_{0}=s,a_{0}=a] \\> .\n",
        "\\end{equation*}\n",
        "\n",
        "Thus, the optimal Q function is:\n",
        "\\begin{equation*}\n",
        "Q^*(s,a)=\\max_{\\pi}Q^\\pi(s,a) \\> .\n",
        "\\end{equation*}\n",
        "\n",
        "In this project, we will apply the deep reinforcement learning techniques to a simple game: an agent will have to learn from scratch a policy that will permit it maximizing a reward."
      ]
    },
    {
      "cell_type": "markdown",
      "metadata": {
        "id": "q9vQWeyUyPco",
        "colab_type": "text"
      },
      "source": [
        "## The environment, the agent and the game"
      ]
    },
    {
      "cell_type": "markdown",
      "metadata": {
        "id": "mzV82Q1cyPcq",
        "colab_type": "text"
      },
      "source": [
        "### The environment"
      ]
    },
    {
      "cell_type": "markdown",
      "metadata": {
        "id": "n0go5nb9yPcs",
        "colab_type": "text"
      },
      "source": [
        "```Environment``` is an abstract class that represents the states, rewards, and actions to obtain the new state."
      ]
    },
    {
      "cell_type": "code",
      "metadata": {
        "id": "ZO26zC3pyPcu",
        "colab_type": "code",
        "colab": {}
      },
      "source": [
        "class Environment(object):\n",
        "    def __init__(self):\n",
        "        pass\n",
        "\n",
        "    def act(self, act):\n",
        "        \"\"\"\n",
        "        One can act on the environment and obtain its reaction:\n",
        "        - the new state\n",
        "        - the reward of the new state\n",
        "        - should we continue the game?\n",
        "\n",
        "        :return: state, reward, game_over\n",
        "        \"\"\"\n",
        "        pass\n",
        "\n",
        "\n",
        "    def reset(self):\n",
        "        \"\"\"\n",
        "        Reinitialize the environment to a random state and returns\n",
        "        the original state\n",
        "\n",
        "        :return: state\n",
        "        \"\"\"\n",
        "        pass\n",
        "    \n",
        "    def draw(self):\n",
        "        \"\"\"\n",
        "        Visualize in the console or graphically the current state\n",
        "        \"\"\"\n",
        "        pass"
      ],
      "execution_count": 0,
      "outputs": []
    },
    {
      "cell_type": "markdown",
      "metadata": {
        "id": "3JV1gMSeyPcy",
        "colab_type": "text"
      },
      "source": [
        "The method ```act``` allows to act on the environment at a given state $s_t$ (stored internally), via action $a_t$. The method will return the new state $s_{t+1}$, the reward $r(s_{t},a_{t})$ and determines if $t\\leq T$ (*game_over*).\n",
        "\n",
        "The method ```reset``` simply reinitializes the environment to a random state $s_0$.\n",
        "\n",
        "The method ```draw``` displays the current state $s_t$ (this is useful to check the behavior of the Agent).\n",
        "\n",
        "We modelize $s_t$ as a tensor, while $a_t$ is an integer."
      ]
    },
    {
      "cell_type": "markdown",
      "metadata": {
        "id": "Bs2b9V2GyPc0",
        "colab_type": "text"
      },
      "source": [
        "### The Agent"
      ]
    },
    {
      "cell_type": "markdown",
      "metadata": {
        "id": "DWjTvZoEyPc1",
        "colab_type": "text"
      },
      "source": [
        "The goal of the ```Agent``` is to interact with the ```Environment``` by proposing actions $a_t$ obtained from a given state $s_t$ to attempt to maximize its __reward__ $r(s_t,a_t)$. We propose the following abstract class:"
      ]
    },
    {
      "cell_type": "code",
      "metadata": {
        "id": "jvh6EGDCyPc2",
        "colab_type": "code",
        "colab": {}
      },
      "source": [
        "class Agent(object):\n",
        "    def __init__(self, epsilon=0.1, n_action=4):\n",
        "        self.epsilon = epsilon\n",
        "        self.n_action = n_action\n",
        "    \n",
        "    def set_epsilon(self,e):\n",
        "        self.epsilon = e\n",
        "\n",
        "    def act(self,s,train=True):\n",
        "        \"\"\" This function should return the next action to do:\n",
        "        an integer between 0 and 4 (not included) with a random exploration of epsilon\"\"\"\n",
        "        if train:\n",
        "            if np.random.rand() <= self.epsilon:\n",
        "                a = np.random.randint(0, self.n_action, size=1)[0]\n",
        "            else:\n",
        "                a = self.learned_act(s)\n",
        "        else: # in some cases, this can improve the performance.. remove it if poor performances\n",
        "            a = self.learned_act(s)\n",
        "\n",
        "        return a\n",
        "\n",
        "    def learned_act(self,s):\n",
        "        \"\"\" Act via the policy of the agent, from a given state s\n",
        "        it proposes an action a\"\"\"\n",
        "        pass\n",
        "\n",
        "    def reinforce(self, s, n_s, a, r, game_over_):\n",
        "        \"\"\" This function is the core of the learning algorithm. \n",
        "        It takes as an input the current state s_, the next state n_s_\n",
        "        the action a_ used to move from s_ to n_s_ and the reward r_.\n",
        "        \n",
        "        Its goal is to learn a policy.\n",
        "        \"\"\"\n",
        "        pass\n",
        "\n",
        "    def save(self):\n",
        "        \"\"\" This function returns basic stats if applicable: the\n",
        "        loss and/or the model\"\"\"\n",
        "        pass\n",
        "\n",
        "    def load(self):\n",
        "        \"\"\" This function allows to restore a model\"\"\"\n",
        "        pass"
      ],
      "execution_count": 0,
      "outputs": []
    },
    {
      "cell_type": "markdown",
      "metadata": {
        "id": "iEwCItqGyPc7",
        "colab_type": "text"
      },
      "source": [
        "***\n",
        "__Question 1__:\n",
        "Explain the function act. Why is ```epsilon``` essential?"
      ]
    },
    {
      "cell_type": "markdown",
      "metadata": {
        "id": "mKlHtzvsyPdP",
        "colab_type": "text"
      },
      "source": [
        "(you can use Markdown and Latex)"
      ]
    },
    {
      "cell_type": "markdown",
      "metadata": {
        "id": "77lITqTNJsVS",
        "colab_type": "text"
      },
      "source": [
        "The function can either be in trained mode, or not. \n",
        "\n",
        "If the agent is not in train mode and considers that is has fully learned the best policy, it will always choose the act given by said policy.\n",
        "\n",
        "If the agent is still in train mode, it will alternate between exploration and exploitation, with a probability $\\epsilon$. Hence, with a probability $\\epsilon$, the agent will be in exploration mode and will choose a random action (with equiprobability). Otherwise, it will be in exploitation mode and whill choose the best action according to the policy that it has learned so far. "
      ]
    },
    {
      "cell_type": "markdown",
      "metadata": {
        "id": "d-5wYZEeyPdY",
        "colab_type": "text"
      },
      "source": [
        "***\n",
        "### The Game"
      ]
    },
    {
      "cell_type": "markdown",
      "metadata": {
        "id": "1WBm1qPfyPda",
        "colab_type": "text"
      },
      "source": [
        "The ```Agent``` and the ```Environment``` work in an interlaced way as in the following (take some time to understand this code as it is the core of the project)\n",
        "\n",
        "```python\n",
        "\n",
        "epoch = 300\n",
        "env = *Environment*()\n",
        "agent = Agent()\n",
        "\n",
        "\n",
        "# Number of won games\n",
        "score = 0\n",
        "loss = 0\n",
        "\n",
        "\n",
        "for e in range(epoch):\n",
        "    # At each epoch, we restart to a fresh game and get the initial state\n",
        "    state = env.reset()\n",
        "    # This assumes that the games will end\n",
        "    game_over = False\n",
        "\n",
        "    win = 0\n",
        "    lose = 0\n",
        "    \n",
        "    while not game_over:\n",
        "        # The agent performs an action\n",
        "        action = agent.act(state)\n",
        "\n",
        "        # Apply an action to the environment, get the next state, the reward\n",
        "        # and if the games end\n",
        "        prev_state = state\n",
        "        state, reward, game_over = env.act(action)\n",
        "\n",
        "        # Update the counters\n",
        "        if reward > 0:\n",
        "            win = win + reward\n",
        "        if reward < 0:\n",
        "            lose = lose -reward\n",
        "\n",
        "        # Apply the reinforcement strategy\n",
        "        loss = agent.reinforce(prev_state, state,  action, reward, game_over)\n",
        "\n",
        "    # Save as a mp4\n",
        "    if e % 10 == 0:\n",
        "        env.draw(e)\n",
        "\n",
        "    # Update stats\n",
        "    score += win-lose\n",
        "\n",
        "    print(\"Epoch {:03d}/{:03d} | Loss {:.4f} | Win/lose count {}/{} ({})\"\n",
        "          .format(e, epoch, loss, win, lose, win-lose))\n",
        "    agent.save()\n",
        "```"
      ]
    },
    {
      "cell_type": "markdown",
      "metadata": {
        "id": "LX9ytmG5yPdc",
        "colab_type": "text"
      },
      "source": [
        "# The game, *eat cheese*"
      ]
    },
    {
      "cell_type": "markdown",
      "metadata": {
        "id": "jQuGH-BPyPdd",
        "colab_type": "text"
      },
      "source": [
        "A rat runs on an island and tries to eat as much as possible. The island is subdivided into $N\\times N$ cells, in which there are cheese (+0.5) and poisonous cells (-1). The rat has a visibility of 2 cells (thus it can see $5^2$ cells). The rat is given a time $T$ to accumulate as much food as possible. It can perform 4 actions: going up, down, left, right. \n",
        "\n",
        "The goal is to code an agent to solve this task that will learn by trial and error. We propose the following environment:"
      ]
    },
    {
      "cell_type": "code",
      "metadata": {
        "id": "w3TyUSOMyPde",
        "colab_type": "code",
        "colab": {}
      },
      "source": [
        "class Environment(object):\n",
        "    def __init__(self, grid_size=10, max_time=500, temperature=0.1):\n",
        "        grid_size = grid_size + 4\n",
        "        self.grid_size = grid_size\n",
        "        self.max_time = max_time\n",
        "        self.temperature = temperature\n",
        "\n",
        "        #board on which one plays\n",
        "        self.board = np.zeros((grid_size,grid_size))\n",
        "        self.position = np.zeros((grid_size,grid_size))\n",
        "\n",
        "        # coordinate of the cat\n",
        "        self.x = 0\n",
        "        self.y = 1\n",
        "\n",
        "        # self time\n",
        "        self.t = 0\n",
        "\n",
        "        self.scale=16\n",
        "\n",
        "        self.to_draw = np.zeros((max_time+2, grid_size*self.scale, grid_size*self.scale, 3))\n",
        "        \n",
        "    def draw(self,e):\n",
        "        skvideo.io.vwrite(str(e) + '.mp4', self.to_draw)\n",
        "\n",
        "    def get_frame(self,t):\n",
        "        b = np.zeros((self.grid_size,self.grid_size,3)) + 128\n",
        "        b[self.board>0, 0] = 256 #red: cheese\n",
        "        b[self.board < 0, 2] = 256 #blue: poison\n",
        "        b[self.x,self.y,:] = 256 #black: cat\n",
        "        b[-2:,:,:]=0\n",
        "        b[:,-2:,:]=0\n",
        "        b[:2,:,:]=0\n",
        "        b[:,:2,:]=0\n",
        "        \n",
        "        b =  cv2.resize(b, None, fx=self.scale, fy=self.scale, interpolation=cv2.INTER_NEAREST)\n",
        "\n",
        "        self.to_draw[t,:,:,:]=b\n",
        "\n",
        "    def act(self, action):\n",
        "        \"\"\"This function returns the new state, reward and decides if the\n",
        "        game ends.\"\"\"\n",
        "\n",
        "        self.get_frame(int(self.t))\n",
        "\n",
        "        self.position = np.zeros((self.grid_size, self.grid_size))\n",
        "\n",
        "        self.position[0:2,:]= -1\n",
        "        self.position[:,0:2] = -1\n",
        "        self.position[-2:, :] = -1\n",
        "        self.position[:, -2:] = -1\n",
        "\n",
        "        self.position[self.x, self.y] = 1\n",
        "        if action == 0:\n",
        "            if self.x == self.grid_size-3:\n",
        "                self.x = self.x-1\n",
        "            else:\n",
        "                self.x = self.x + 1\n",
        "        elif action == 1:\n",
        "            if self.x == 2:\n",
        "                self.x = self.x+1\n",
        "            else:\n",
        "                self.x = self.x-1\n",
        "        elif action == 2:\n",
        "            if self.y == self.grid_size - 3:\n",
        "                self.y = self.y - 1\n",
        "            else:\n",
        "                self.y = self.y + 1\n",
        "        elif action == 3:\n",
        "            if self.y == 2:\n",
        "                self.y = self.y + 1\n",
        "            else:\n",
        "                self.y = self.y - 1\n",
        "        else:\n",
        "            RuntimeError('Error: action not recognized')\n",
        "\n",
        "        self.t = self.t + 1\n",
        "        reward = self.board[self.x, self.y]\n",
        "        self.board[self.x, self.y] = 0\n",
        "        game_over = self.t > self.max_time\n",
        "        state = np.concatenate((self.board.reshape(self.grid_size, self.grid_size,1),\n",
        "                        self.position.reshape(self.grid_size, self.grid_size,1)),axis=2)\n",
        "        state = state[self.x-2:self.x+3,self.y-2:self.y+3,:]\n",
        "\n",
        "        return state, reward, game_over\n",
        "\n",
        "    def reset(self):\n",
        "        \"\"\"This function resets the game and returns the initial state\"\"\"\n",
        "\n",
        "        self.x = np.random.randint(3, self.grid_size-3, size=1)[0]\n",
        "        self.y = np.random.randint(3, self.grid_size-3, size=1)[0]\n",
        "\n",
        "\n",
        "        bonus = 0.5*np.random.binomial(1,self.temperature,size=self.grid_size**2)\n",
        "        bonus = bonus.reshape(self.grid_size,self.grid_size)\n",
        "\n",
        "        malus = -1.0*np.random.binomial(1,self.temperature,size=self.grid_size**2)\n",
        "        malus = malus.reshape(self.grid_size, self.grid_size)\n",
        "\n",
        "        self.to_draw = np.zeros((self.max_time+2, self.grid_size*self.scale, self.grid_size*self.scale, 3))\n",
        "\n",
        "\n",
        "        malus[bonus>0]=0\n",
        "\n",
        "        self.board = bonus + malus\n",
        "\n",
        "        self.position = np.zeros((self.grid_size, self.grid_size))\n",
        "        self.position[0:2,:]= -1\n",
        "        self.position[:,0:2] = -1\n",
        "        self.position[-2:, :] = -1\n",
        "        self.position[-2:, :] = -1\n",
        "        self.board[self.x,self.y] = 0\n",
        "        self.t = 0\n",
        "\n",
        "        state = np.concatenate((\n",
        "                               self.board.reshape(self.grid_size, self.grid_size,1),\n",
        "                        self.position.reshape(self.grid_size, self.grid_size,1)),axis=2)\n",
        "\n",
        "        state = state[self.x - 2:self.x + 3, self.y - 2:self.y + 3, :]\n",
        "        return state"
      ],
      "execution_count": 0,
      "outputs": []
    },
    {
      "cell_type": "markdown",
      "metadata": {
        "id": "UI4WavNayPdi",
        "colab_type": "text"
      },
      "source": [
        "The following elements are important because they correspond to the hyper parameters for this project:"
      ]
    },
    {
      "cell_type": "code",
      "metadata": {
        "id": "k3eFNpnGyPdn",
        "colab_type": "code",
        "colab": {}
      },
      "source": [
        "# parameters\n",
        "size = 13\n",
        "T = 200\n",
        "temperature = 0.3\n",
        "epochs_train = 20 # set small when debugging\n",
        "epochs_test = 20 # set small when debugging\n",
        "\n",
        "# display videos\n",
        "def display_videos(name):\n",
        "    video = io.open(name, 'r+b').read()\n",
        "    encoded = base64.b64encode(video)\n",
        "    return '''<video alt=\"test\" controls>\n",
        "                <source src=\"data:video/mp4;base64,{0}\" type=\"video/mp4\" />\n",
        "             </video>'''.format(encoded.decode('ascii'))"
      ],
      "execution_count": 0,
      "outputs": []
    },
    {
      "cell_type": "markdown",
      "metadata": {
        "id": "nk6mC1O9yPd3",
        "colab_type": "text"
      },
      "source": [
        "__Question 2__ Explain the use of the arrays ```position``` and ```board```.\n",
        "\n"
      ]
    },
    {
      "cell_type": "markdown",
      "metadata": {
        "id": "Pa0cpX-kyPd5",
        "colab_type": "text"
      },
      "source": [
        "\n",
        "\n",
        "*   ```position```: indicates where the cat can go, i.e. -1 on the border to make sure the cat does not go out of bounds, 1 where the cat actually is, and 0 everywhere else.\n",
        "*   ```board```: indicates the reward associated to each cell, i.e. whether there is cheese, poison or nothing.\n",
        "\n"
      ]
    },
    {
      "cell_type": "markdown",
      "metadata": {
        "id": "51k9uTcdyPd6",
        "colab_type": "text"
      },
      "source": [
        "## Random Agent"
      ]
    },
    {
      "cell_type": "markdown",
      "metadata": {
        "id": "HCRp7fH3yPd-",
        "colab_type": "text"
      },
      "source": [
        "***\n",
        "__Question 3__ Implement a random Agent (only ```learned_act``` needs to be implemented):"
      ]
    },
    {
      "cell_type": "code",
      "metadata": {
        "id": "-GfOX4FRyPd_",
        "colab_type": "code",
        "colab": {}
      },
      "source": [
        "class RandomAgent(Agent):\n",
        "    def __init__(self):\n",
        "        super(RandomAgent, self).__init__()\n",
        "        pass\n",
        "\n",
        "    def learned_act(self, s):\n",
        "        a = np.random.randint(0, self.n_action, size=1)[0] #select a random action\n",
        "        return a"
      ],
      "execution_count": 0,
      "outputs": []
    },
    {
      "cell_type": "markdown",
      "metadata": {
        "id": "z4rlFXKjyPeP",
        "colab_type": "text"
      },
      "source": [
        "***\n",
        "***\n",
        "__Question 4__ Visualize the game moves. You need to fill in the following function for the evaluation:"
      ]
    },
    {
      "cell_type": "code",
      "metadata": {
        "id": "jJe6fbwsyPeR",
        "colab_type": "code",
        "colab": {}
      },
      "source": [
        "def test(agent, env, epochs, prefix=''):\n",
        "    # Number of won games\n",
        "    score = 0\n",
        "        \n",
        "    for e in range(epochs):\n",
        "        # At each epoch, we restart to a fresh game and get the initial state\n",
        "        state = env.reset()\n",
        "        \n",
        "        # This assumes that the games will end\n",
        "        game_over = False\n",
        "\n",
        "        win = 0\n",
        "        lose = 0\n",
        "\n",
        "        while not game_over:\n",
        "          # The agent performs an action\n",
        "          action = agent.act(state)\n",
        "\n",
        "          # Apply an action to the environment, get the next state, the reward\n",
        "          # and if the games end\n",
        "          state, reward, game_over = env.act(action)\n",
        "\n",
        "          # Update the counters\n",
        "          if reward > 0:\n",
        "                win = win + reward\n",
        "          if reward < 0:\n",
        "                lose = lose - reward\n",
        "\n",
        "        # Save as a mp4\n",
        "        env.draw(prefix + str(e))\n",
        "\n",
        "        # Update stats\n",
        "        score = score + win - lose\n",
        "\n",
        "        print(\"Win/lose count {}/{}. Average score ({})\"\n",
        "              .format(win, lose, score/(1+e)))\n",
        "    print('Final score: '+str(score/epochs))"
      ],
      "execution_count": 0,
      "outputs": []
    },
    {
      "cell_type": "code",
      "metadata": {
        "id": "MpSeqxyZyPeX",
        "colab_type": "code",
        "outputId": "52956e9c-fec3-42c7-cb9e-2fb4ecc0270d",
        "colab": {
          "base_uri": "https://localhost:8080/",
          "height": 528
        }
      },
      "source": [
        "# Initialize the game\n",
        "env = Environment(grid_size=size, max_time=T,temperature=temperature)\n",
        "\n",
        "# Initialize the agent!\n",
        "agent = RandomAgent()\n",
        "\n",
        "test(agent,env,epochs_test,prefix='random')\n",
        "HTML(display_videos('random0.mp4'))"
      ],
      "execution_count": 0,
      "outputs": [
        {
          "output_type": "stream",
          "text": [
            "Win/lose count 12.0/11.0. Average score (1.0)\n",
            "Win/lose count 8.0/5.0. Average score (2.0)\n",
            "Win/lose count 5.0/8.0. Average score (0.3333333333333333)\n",
            "Win/lose count 13.0/16.0. Average score (-0.5)\n",
            "Win/lose count 10.0/20.0. Average score (-2.4)\n",
            "Win/lose count 9.5/18.0. Average score (-3.4166666666666665)\n",
            "Win/lose count 9.5/16.0. Average score (-3.857142857142857)\n",
            "Win/lose count 13.5/5.0. Average score (-2.3125)\n",
            "Win/lose count 10.5/17.0. Average score (-2.7777777777777777)\n",
            "Win/lose count 5.5/17.0. Average score (-3.65)\n",
            "Win/lose count 11.5/9.0. Average score (-3.090909090909091)\n",
            "Win/lose count 6.0/9.0. Average score (-3.0833333333333335)\n",
            "Win/lose count 6.5/18.0. Average score (-3.730769230769231)\n",
            "Win/lose count 7.5/14.0. Average score (-3.9285714285714284)\n",
            "Win/lose count 8.5/10.0. Average score (-3.7666666666666666)\n",
            "Win/lose count 12.5/15.0. Average score (-3.6875)\n",
            "Win/lose count 9.5/9.0. Average score (-3.4411764705882355)\n",
            "Win/lose count 8.5/11.0. Average score (-3.388888888888889)\n",
            "Win/lose count 7.5/9.0. Average score (-3.289473684210526)\n",
            "Win/lose count 8.0/10.0. Average score (-3.225)\n",
            "Final score: -3.225\n"
          ],
          "name": "stdout"
        },
        {
          "output_type": "execute_result",
          "data": {
            "text/html": [
              "<video alt=\"test\" controls>\n",
              "                <source src=\"data:video/mp4;base64,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\" type=\"video/mp4\" />\n",
              "             </video>"
            ],
            "text/plain": [
              "<IPython.core.display.HTML object>"
            ]
          },
          "metadata": {
            "tags": []
          },
          "execution_count": 10
        }
      ]
    },
    {
      "cell_type": "markdown",
      "metadata": {
        "id": "UON5RJdgyPeb",
        "colab_type": "text"
      },
      "source": [
        "***\n",
        "## DQN"
      ]
    },
    {
      "cell_type": "markdown",
      "metadata": {
        "id": "VOjkFb9KyPec",
        "colab_type": "text"
      },
      "source": [
        "Let us assume here that $T=\\infty$.\n",
        "\n",
        "***\n",
        "__Question 5__ Let $\\pi$ be a policy, show that:\n",
        "\n",
        "\\begin{equation*}\n",
        "Q^{\\pi}(s,a)=E_{(s',a')\\sim p(.|s,a)}[r(s,a)+\\gamma Q^{\\pi}(s',a')]\n",
        "\\end{equation*}\n",
        "\n",
        "Then, show that for the optimal policy $\\pi^*$ (we assume its existence), the following holds: \n",
        "\n",
        "\\begin{equation*}\n",
        "Q^{*}(s,a)=E_{s'\\sim \\pi^*(.|s,a)}[r(s,a)+\\gamma\\max_{a'}Q^{*}(s',a')].\n",
        "\\end{equation*}\n",
        "Finally, deduce that a plausible objective is:\n",
        "\n",
        "\\begin{equation*}\n",
        "\\mathcal{L}(\\theta)=E_{s' \\sim \\pi^*(.|s,a)}\\Vert r+\\gamma\\max\\max_{a'}Q(s',a',\\theta)-Q(s,a,\\theta)\\Vert^{2}.\n",
        "\\end{equation*}\n",
        "\n",
        "\n"
      ]
    },
    {
      "cell_type": "markdown",
      "metadata": {
        "id": "1WqYxujryPed",
        "colab_type": "text"
      },
      "source": [
        "*Solution, part 1:*\n",
        "\n",
        "\\begin{equation*}\n",
        "\\begin{aligned}\n",
        "Q^{\\pi}(s,a)=& E_{p^{\\pi}}[\\sum_{t\\geq 0}\\gamma^{t}r(s_{t},a_{t})|s_{0}=s,a_{0}=a]\\\\\n",
        "=& r(s,a) + E_{p^{\\pi}}[\\sum_{t\\geq 1}\\gamma^{t}r(s_{t},a_{t})|s_{0}=s,a_{0}=a]\\\\\n",
        "=& r(s,a) + \\gamma E_{p^{\\pi}}[ E_{p^{\\pi}}[\\sum_{t\\geq 1}\\gamma^{t-1}r(s_{t},a_{t})|s_{1}=s',a_{1}=a']|s_{0}=s,a_{0}=a]\\\\\n",
        "=& r(s,a) + \\gamma \\sum_{(s',a')} p(s_{t+1} = s', a_{t+1} = a' |s_{t} = s', a_{t} = a') E_{p^{\\pi}}[\\sum_{t\\geq 1}\\gamma^{t-1}r(s_{t},a_{t})|s_{1}=s',a_{1}=a']\\\\\n",
        "=& \\sum_{(s',a')} p(s_{t+1} = s', a_{t+1} = a' |s_{t} = s', a_{t} = a')r(s,a) + \\gamma \\sum_{(s',a')} p(s_{t+1} = s', a_{t+1} = a' |s_{t} = s', a_{t} = a') E_{p^{\\pi}}[\\sum_{t\\geq 1}\\gamma^{t-1}r(s_{t},a_{t})|s_{1}=s',a_{1}=a']\\\\\n",
        "=& E_{(s',a')\\sim p(.|s,a)}[r(s,a) + E_{p^{\\pi}}[\\sum_{t\\geq 0}\\gamma^{t}r(s_{t+1},a_{t+1})|s_{0}=s',a_{0}=a']\\\\\n",
        "=&E_{(s',a')\\sim p(.|s,a)}[r(s,a)+\\gamma Q^{\\pi}(s',a')]\n",
        "\\end{aligned}\n",
        "\\end{equation*}\n",
        "\n",
        "*Solution, part 2:*\n",
        "\n",
        "\\begin{equation*}\n",
        "\\begin{aligned}\n",
        "Q^*(s,a)=& max_{\\pi}Q^{\\pi}(s,a) \\\\\n",
        "=&Q^{\\pi^*}(s,a) \\\\\n",
        "=&E_{(s',a')\\sim p^*(.|s,a)}[r(s,a)+\\gamma Q^{\\pi^*}(s',a')]\\\\\n",
        "=&E_{s'\\sim \\pi^*(.|s,a)}[r(s,a)+\\gamma \\max_{a'}Q^*(s',a')] \\text{ since the optimal policy is deterministic and selects actions with } \\pi^*(s) = argmax_(a) Q^*(s,a)\n",
        "\\end{aligned}\n",
        "\\end{equation*}\n",
        "\n",
        "*Solution, part 3:*\n",
        "The previous equations shows that the optimal Q-value is the unique fixed point of the Bellman operator. Therefore, choosing this loss entails reaching a Q-function that minimizes the Bellman error. Hence, if the algorithm converges, it will converge to the optimal Q-value."
      ]
    },
    {
      "cell_type": "markdown",
      "metadata": {
        "id": "xBpJxhY2yPef",
        "colab_type": "text"
      },
      "source": [
        "\n",
        "\n",
        "***\n",
        "The DQN-learning algorithm relies on these derivations to train the parameters $\\theta$ of a Deep Neural Network:\n",
        "\n",
        "1. At the state $s_t$, select the action $a_t$ with best reward using $Q_t$ and store the results;\n",
        "\n",
        "2. Obtain the new state $s_{t+1}$ from the environment $p$;\n",
        "\n",
        "3. Store $(s_t,a_t,s_{t+1})$;\n",
        "\n",
        "4. Obtain $Q_{t+1}$ by minimizing  $\\mathcal{L}$ from a recovered batch from the previously stored results.\n",
        "\n",
        "***\n",
        "__Question 6__ Implement the class ```Memory``` that stores moves (in a replay buffer) via ```remember``` and provides a ```random_access``` to these. Specify a maximum memory size to avoid side effects. You can for example use a ```list()``` and set by default ```max_memory=100```."
      ]
    },
    {
      "cell_type": "code",
      "metadata": {
        "id": "XWHuiQFeyPeg",
        "colab_type": "code",
        "colab": {}
      },
      "source": [
        "class Memory(object):\n",
        "    def __init__(self, max_memory=100):\n",
        "        self.max_memory = max_memory\n",
        "        self.memory = list()\n",
        "\n",
        "    def remember(self, m):\n",
        "        if len(self.memory) <= self.max_memory:\n",
        "            self.memory.append(m) # add to memory\n",
        "        else:\n",
        "            del self.memory[0]  # if memory is saturated, we remove the first element\n",
        "            \n",
        "    def random_access(self, size=1):\n",
        "        return self.memory[np.random.randint(len(self.memory))] # return random element"
      ],
      "execution_count": 0,
      "outputs": []
    },
    {
      "cell_type": "markdown",
      "metadata": {
        "id": "T5oASeN0yPen",
        "colab_type": "text"
      },
      "source": [
        "***\n",
        "The pipeline we will use for training is given below:"
      ]
    },
    {
      "cell_type": "code",
      "metadata": {
        "id": "RoqEBRqryPeo",
        "colab_type": "code",
        "colab": {}
      },
      "source": [
        "def train(agent,env,epoch,prefix=''):\n",
        "    # Number of won games\n",
        "    score = 0\n",
        "    loss = 0\n",
        "\n",
        "    for e in range(epoch):\n",
        "        # At each epoch, we restart to a fresh game and get the initial state\n",
        "        state = env.reset()\n",
        "        # This assumes that the games will terminate\n",
        "        game_over = False\n",
        "\n",
        "        win = 0\n",
        "        lose = 0\n",
        "\n",
        "        while not game_over:\n",
        "            # The agent performs an action\n",
        "            action = agent.act(state)\n",
        "\n",
        "            # Apply an action to the environment, get the next state, the reward\n",
        "            # and if the games end\n",
        "            prev_state = state\n",
        "            state, reward, game_over = env.act(action)\n",
        "\n",
        "            # Update the counters\n",
        "            if reward > 0:\n",
        "                win = win + reward\n",
        "            if reward < 0:\n",
        "                lose = lose -reward\n",
        "\n",
        "            # Apply the reinforcement strategy\n",
        "            loss = agent.reinforce(prev_state, state,  action, reward, game_over)\n",
        "\n",
        "        # Save as a mp4\n",
        "        if e % 10 == 0:\n",
        "            env.draw(prefix+str(e))\n",
        "\n",
        "        # Update stats\n",
        "        score += win-lose\n",
        "\n",
        "        print(\"Epoch {:03d}/{:03d} | Loss {:.4f} | Win/lose count {}/{} ({})\"\n",
        "              .format(e, epoch, loss, win, lose, win-lose))\n",
        "        agent.save(name_weights=prefix+'model.h5',name_model=prefix+'model.json')"
      ],
      "execution_count": 0,
      "outputs": []
    },
    {
      "cell_type": "markdown",
      "metadata": {
        "id": "tJQ386FxyPeu",
        "colab_type": "text"
      },
      "source": [
        "***\n",
        "__Question 7__ Implement the DQN training algorithm using a cascade of fully connected layers. You can use different learning rate, batch size or memory size parameters. In particular, the loss might oscillate while the player will start to win the games. You have to find a good criterium."
      ]
    },
    {
      "cell_type": "code",
      "metadata": {
        "id": "m3id0aOkyPev",
        "colab_type": "code",
        "colab": {}
      },
      "source": [
        "class DQN(Agent):\n",
        "    def __init__(self, grid_size,  epsilon = 0.1, memory_size=100, batch_size = 16,n_state=2):\n",
        "        super(DQN, self).__init__(epsilon = epsilon)\n",
        "\n",
        "        # Discount for Q learning\n",
        "        self.discount = 0.99\n",
        "        \n",
        "        self.grid_size = grid_size\n",
        "        \n",
        "        # number of state\n",
        "        self.n_state = n_state\n",
        "\n",
        "        # Memory\n",
        "        self.memory = Memory(memory_size)\n",
        "        \n",
        "        # Batch size when learning\n",
        "        self.batch_size = batch_size\n",
        "\n",
        "    def learned_act(self, s):\n",
        "        return np.argmax(self.model.predict(s[None])) # most likely action\n",
        "\n",
        "    def reinforce(self, s_, n_s_, a_, r_, game_over_):\n",
        "        # Two steps: first memorize the states, second learn from the pool\n",
        "        self.memory.remember([s_, n_s_, a_, r_, game_over_])\n",
        "        \n",
        "        # recall that state = 2-neighborhood of mouse in the grid\n",
        "        input_states = np.zeros((self.batch_size, 5, 5, self.n_state))  # initialize states\n",
        "        target_q = np.zeros((self.batch_size, 4))  # initialize targets\n",
        "        \n",
        "        for i in range(self.batch_size):\n",
        "            # draw a sample\n",
        "            s_, n_s_, a_, r_, game_over_ = self.memory.random_access()\n",
        "            # bootstrap a target value\n",
        "            input_states[i] = s_\n",
        "            target_q[i] = self.model.predict(np.array([s_]))[0]\n",
        "\n",
        "            if game_over_:\n",
        "                # in this case only the reward counts because the episode terminates\n",
        "                target_q[i, a_] = r_\n",
        "            else:\n",
        "                target_q[i, a_] = r_ + self.discount * self.model.predict(n_s_.reshape(1, 5, 5, self.n_state)).max()\n",
        "            \n",
        "        \n",
        "        # HINT: Clip the target to avoid exploiding gradients.. -- clipping is a bit tighter\n",
        "        target_q = np.clip(target_q, -3, 3)\n",
        "        l = self.model.train_on_batch(input_states, target_q)\n",
        "\n",
        "        return l\n",
        "\n",
        "    def save(self,name_weights='model.h5',name_model='model.json'):\n",
        "        self.model.save_weights(name_weights, overwrite=True)\n",
        "        with open(name_model, \"w\") as outfile:\n",
        "            json.dump(self.model.to_json(), outfile)\n",
        "            \n",
        "    def load(self,name_weights='model.h5',name_model='model.json'):\n",
        "        with open(name_model, \"r\") as jfile:\n",
        "            model = model_from_json(json.load(jfile))\n",
        "        model.load_weights(name_weights)\n",
        "        model.compile(\"sgd\", \"mse\")\n",
        "        self.model = model\n",
        "\n",
        "            \n",
        "class DQN_FC(DQN):\n",
        "    def __init__(self, *args, lr=0.1,**kwargs):\n",
        "        super(DQN_FC, self).__init__(*args, **kwargs)\n",
        "        \n",
        "        # NN Model\n",
        "        input_shape = (5, 5, self.n_state)  # give the 2-neighborhood of cat\n",
        "        hid_size1 = 64\n",
        "        hid_size2 = 4\n",
        "        \n",
        "        inp = Input(shape=input_shape)\n",
        "        x = Flatten()(inp)\n",
        "        x = Dense(hid_size1, activation=\"relu\")(x)\n",
        "        x = Dense(hid_size2, activation=\"linear\")(x)\n",
        "        model = Model(inputs=inp, outputs=x)\n",
        "        \n",
        "        model.compile(adam(lr=lr, decay=1e-4), \"mse\")\n",
        "        self.model = model"
      ],
      "execution_count": 0,
      "outputs": []
    },
    {
      "cell_type": "code",
      "metadata": {
        "id": "er7wKz85yPe0",
        "colab_type": "code",
        "outputId": "aadb4d44-873f-4d8f-9a74-ec7bb63e22c0",
        "colab": {
          "base_uri": "https://localhost:8080/",
          "height": 511
        }
      },
      "source": [
        "env = Environment(grid_size=size, max_time=T, temperature=0.3)\n",
        "agent = DQN_FC(size, lr=1e-3, epsilon=0.1, memory_size=2000, batch_size=128)\n",
        "train(agent, env, epochs_train, prefix='fc_train')\n",
        "HTML(display_videos('fc_train10.mp4'))"
      ],
      "execution_count": 0,
      "outputs": [
        {
          "output_type": "stream",
          "text": [
            "Epoch 000/020 | Loss 0.0077 | Win/lose count 2.5/10.0 (-7.5)\n",
            "Epoch 001/020 | Loss 0.0170 | Win/lose count 2.0/4.0 (-2.0)\n",
            "Epoch 002/020 | Loss 0.0102 | Win/lose count 1.0/5.0 (-4.0)\n",
            "Epoch 003/020 | Loss 0.0144 | Win/lose count 2.5/1.0 (1.5)\n",
            "Epoch 004/020 | Loss 0.0285 | Win/lose count 3.0/9.0 (-6.0)\n",
            "Epoch 005/020 | Loss 0.0036 | Win/lose count 6.5/4.0 (2.5)\n",
            "Epoch 006/020 | Loss 0.0208 | Win/lose count 2.0/2.0 (0.0)\n",
            "Epoch 007/020 | Loss 0.0017 | Win/lose count 1.0/1.0 (0.0)\n",
            "Epoch 008/020 | Loss 0.0047 | Win/lose count 1.5/0 (1.5)\n",
            "Epoch 009/020 | Loss 0.0155 | Win/lose count 6.0/2.0 (4.0)\n",
            "Epoch 010/020 | Loss 0.0015 | Win/lose count 3.5/3.0 (0.5)\n",
            "Epoch 011/020 | Loss 0.0201 | Win/lose count 10.5/2.0 (8.5)\n",
            "Epoch 012/020 | Loss 0.0011 | Win/lose count 2.5/1.0 (1.5)\n",
            "Epoch 013/020 | Loss 0.0009 | Win/lose count 2.5/0 (2.5)\n",
            "Epoch 014/020 | Loss 0.0032 | Win/lose count 3.5/4.0 (-0.5)\n",
            "Epoch 015/020 | Loss 0.0171 | Win/lose count 6.0/3.0 (3.0)\n",
            "Epoch 016/020 | Loss 0.0087 | Win/lose count 5.0/3.0 (2.0)\n",
            "Epoch 017/020 | Loss 0.0031 | Win/lose count 4.5/1.0 (3.5)\n",
            "Epoch 018/020 | Loss 0.0024 | Win/lose count 3.5/1.0 (2.5)\n",
            "Epoch 019/020 | Loss 0.0193 | Win/lose count 3.0/2.0 (1.0)\n"
          ],
          "name": "stdout"
        },
        {
          "output_type": "execute_result",
          "data": {
            "text/html": [
              "<video alt=\"test\" controls>\n",
              "                <source src=\"data:video/mp4;base64,AAAAIGZ0eXBpc29tAAACAGlzb21pc28yYXZjMW1wNDEAAAAIZnJlZQAAFbhtZGF0AAACrQYF//+p3EXpvebZSLeWLNgg2SPu73gyNjQgLSBjb3JlIDE1MiByMjg1NCBlOWE1OTAzIC0gSC4yNjQvTVBFRy00IEFWQyBjb2RlYyAtIENvcHlsZWZ0IDIwMDMtMjAxNyAtIGh0dHA6Ly93d3cudmlkZW9sYW4ub3JnL3gyNjQuaHRtbCAtIG9wdGlvbnM6IGNhYmFjPTEgcmVmPTMgZGVibG9jaz0xOjA6MCBhbmFseXNlPTB4MToweDExMSBtZT1oZXggc3VibWU9NyBwc3k9MSBwc3lfcmQ9MS4wMDowLjAwIG1peGVkX3JlZj0xIG1lX3JhbmdlPTE2IGNocm9tYV9tZT0xIHRyZWxsaXM9MSA4eDhkY3Q9MCBjcW09MCBkZWFkem9uZT0yMSwxMSBmYXN0X3Bza2lwPTEgY2hyb21hX3FwX29mZnNldD00IHRocmVhZHM9MyBsb29rYWhlYWRfdGhyZWFkcz0xIHNsaWNlZF90aHJlYWRzPTAgbnI9MCBkZWNpbWF0ZT0xIGludGVybGFjZWQ9MCBibHVyYXlfY29tcGF0PTAgY29uc3RyYWluZWRfaW50cmE9MCBiZnJhbWVzPTMgYl9weXJhbWlkPTIgYl9hZGFwdD0xIGJfYmlhcz0wIGRpcmVjdD0xIHdlaWdodGI9MSBvcGVuX2dvcD0wIHdlaWdodHA9MiBrZXlpbnQ9MjUwIGtleWludF9taW49MjUgc2NlbmVjdXQ9NDAgaW50cmFfcmVmcmVzaD0wIHJjX2xvb2thaGVhZD00MCByYz1jcmYgbWJ0cmVlPTEgY3JmPTIzLjAgcWNvbXA9MC42MCBxcG1pbj0wIHFwbWF4PTY5IHFwc3RlcD00IGlwX3JhdGlvPTEuNDAgYXE9MToxLjAwAIAAAAKdZYiEADf//vaH+BTZWBP+Wb/9DX/cj9uPrP1xYyEE31qvIejAGS+1H+b/rFFs6Z6UB/fgCJQAc24ZwpHZJ46w5MIvVHwKXAT74FNJkUf192yR0ErYiSrz23w5hsLTM9OWXP/1GSiH0RQ2boOSHatCLf9dN2UsaU1KnJsVrIGfSL6eoA5gVB0x8AdMDGU0NLA0Dh86qAt/KZacpBP/fmtYQMQIY5v2LaKIdj5RWxdC4kk/KBxI44A+ct0r+J6A1YfvoCV0jiEnLLgwxImZo/aOf4usBFcLSaEFTYco+6UwyveMLY67dCGVjq/CKfCX7FOzrf89lPlFTX0yCCD724Qgo6d4MKUfNYbcwCbP2pob0IN8w2Z7V6rYgNffZrRRChCzPBNp3jyEmvvoZgjdcUBKXeu2EIncWIeHNo10sYGHfEp4WM08UvXyxZ1byEYkYbBh0s2VqYkgAINuZHdjhQsUSWzGjlX4X1eyHB6iul/xgbu2upeJ9ru5rr9aQcWhsA+Bu2k0vd/uj/YwAz9lktCkv5XkRwIo1WcU5H9K9xkBuz8XwaE1N0c+d1BrPb1OMGMEll1BsF2kvUs8V53JeAAE+SvAfMmcAb/kc/saqgIUwUlwG9iYOUUtZs82W7mynRvRAJIRioPcimPIkWuiaY+sUQBH7PXNK9rbRC7JH0km9Cv6gPJU3Bpi58QKGA4N1GASaPZGtmOpwrCeWWGBXTnoJhkvPtcsBNI/IoepIu/F7gDFdUBojGJwjFSxPZ0xhtrremLr0FSyFdbd6yS95llCBxkqwldVcWQXAjkL6eWBAS92+5UmJewZYDd9jAVMjztmJI7o9RgqKJ6awPj5Gf5sPh39yUxi9b6zI/jCXgP20HdwzIHOBMW0PTLYAAP7AAAAIkGaImxDv/6plgALN7sXMsrVNV4FKJAvApmuWR+vM8/3cbgAAAAQAZ5BeQr/ABJXmiZ3pWeegQAAABBBmkY8IZMphDf//qeEAAEnAAAAC0GeZGpTwv8AALKBAAAAEAGeg3RCvwARpYtunZdl5IEAAAAQAZ6FakK/ABJXmiWhSFeegQAAABJBmohJqEFomUwU8N/+p4QAAScAAAAPAZ6nakK/ABGli2wz1Z+XAAAAEkGaqknhClJlMFLDf/6nhAABJwAAAA8BnslqQr8AEaWLbDPVn5cAAAASQZrMSeEOiZTBRMN//qeEAAEnAAAADwGe62pCvwARpYtsM9WflwAAABJBmu5J4Q8mUwU8N//+p4QAAScAAAAPAZ8NakK/ABGli2wz1Z+XAAAAEkGbEEnhDyZTBTw3//6nhAABJwAAAA8Bny9qQr8AEaWLbDPVn5cAAAASQZsySeEPJlMFPDf//qeEAAEnAAAADwGfUWpCvwARpYtsM9WflwAAABJBm1RJ4Q8mUwU8N//+p4QAAScAAAAPAZ9zakK/ABGli2wz1Z+XAAAAEkGbdknhDyZTBTw3//6nhAABJwAAAA8Bn5VqQr8AEaWLbDPVn5cAAAASQZuYSeEPJlMFPDf//qeEAAEnAAAADwGft2pCvwARpYtsM9WflwAAABJBm7pJ4Q8mUwU8N//+p4QAAScAAAAPAZ/ZakK/ABGli2wz1Z+XAAAAEkGb3EnhDyZTBTw3//6nhAABJwAAAA8Bn/tqQr8AEaWLbDPVn5cAAAASQZv+SeEPJlMFPDf//qeEAAEnAAAADwGeHWpCvwARpYtsM9WflwAAABNBmgBJ4Q8mUwU8O//+qZYAAJWAAAAADwGeP2pCvwARpYtsM9WflwAAABFBmiRJ4Q8mUwIb//6nhAABJwAAAAxBnkJFETwv/wAAsoEAAAAQAZ5hdEK/ABGli26dl2XkgAAAABABnmNqQr8AEleaJaFIV56BAAAAEkGaZkmoQWiZTBTw3/6nhAABJwAAAA8BnoVqQr8AEaWLbDPVn5cAAAASQZqISeEKUmUwUsN//qeEAAEnAAAADwGep2pCvwARpYtsM9WflwAAABNBmqpJ4Q6JlMFEw7/+qZYAAJWAAAAADwGeyWpCvwARpYtsM9WflwAAABNBmsxJ4Q8mUwU8O//+qZYAAJWAAAAADwGe62pCvwARpYtsM9WflwAAABJBmvBJ4Q8mUwId//6plgAAlYEAAAAMQZ8ORRE8L/8AALKBAAAAEAGfLXRCvwARpYtunZdl5IEAAAAQAZ8vakK/ABJXmiWhSFeegAAAABpBmzNJqEFomUwId//+qZYACzfJL79kG4qX0AAAABJBn1FFESwr/wAR2T5zrJ8no4EAAAAOAZ9yakK/ABHg0LvepsIAAAAXQZt3SahBbJlMCHf//qmWAAb72l/V+cAAAAAOQZ+VRRUsL/8ACC0ARWEAAAAQAZ+0dEK/AAuFlHEdl2Y5gAAAAA8Bn7ZqQr8AC4WUbrPVoDMAAAATQZu7SahBbJlMCHf//qmWAACVgQAAAAxBn9lFFSwv/wAAsoAAAAAQAZ/4dEK/AAuFlHEdl2Y5gQAAAA8Bn/pqQr8AC4WUbrPVoDMAAAATQZv/SahBbJlMCHf//qmWAACVgQAAAAxBnh1FFSwv/wAAsoEAAAAQAZ48dEK/AAuFlHEdl2Y5gAAAAA8Bnj5qQr8AC4WUbrPVoDMAAAATQZojSahBbJlMCHf//qmWAACVgQAAAAxBnkFFFSwv/wAAsoAAAAAQAZ5gdEK/AAuFlHEdl2Y5gQAAAA8BnmJqQr8AC4WUbrPVoDMAAAAcQZpnSahBbJlMCHf//qmWAArelnKDNAp9GP00jwAAABBBnoVFFSwv/wAM4q8b2Cs5AAAADwGepHRCvwALpGEBkl0cwQAAABABnqZqQr8AEV2iE3GfXqW5AAAAEkGaq0moQWyZTAhv//6nhAABJwAAAAxBnslFFSwv/wAAsoAAAAAPAZ7odEK/ABHdx3R23wvJAAAADwGe6mpCvwAR15ogtR5fLgAAABJBmu9JqEFsmUwIb//+p4QAAScAAAAMQZ8NRRUsL/8AALKBAAAADwGfLHRCvwAR3cd0dt8LyQAAAA8Bny5qQr8AEdeaILUeXy8AAAAaQZswSahBbJlMCG///qeEABWvdT9RxoSHTcAAAAAZQZtRSeEKUmUwId/+qZYABxx0/KaMfrTXwAAAACZBm3VJ4Q6JlMCHf/6plgASH4nnMsrVNV4FKJAvApmuWOIdaXkx8QAAABVBn5NFETwv/wAVmgQTc365DfbNEmAAAAAPAZ+ydEK/ABJfSdwbJeUWAAAAEAGftGpCvwAdBnhDxoayKoEAAAAXQZu5SahBaJlMCHf//qmWABvvaX9XCcAAAAAOQZ/XRREsL/8AILQAgWEAAAAQAZ/2dEK/AC19AOf2C3JsIQAAABABn/hqQr8ALXG13WUG5NhAAAAAE0Gb/UmoQWyZTAh3//6plgAAlYEAAAAMQZ4bRRUsL/8AALKAAAAAEAGeOnRCvwAtfQDn9gtybCEAAAAQAZ48akK/AC1xtd1lBuTYQQAAABNBmiFJqEFsmUwId//+qZYAAJWAAAAADEGeX0UVLC//AACygAAAABABnn50Qr8ALX0A5/YLcmwhAAAAEAGeYGpCvwAtcbXdZQbk2EAAAAATQZplSahBbJlMCHf//qmWAACVgQAAAAxBnoNFFSwv/wAAsoAAAAAQAZ6idEK/AC19AOf2C3JsIQAAABABnqRqQr8ALXG13WUG5NhBAAAAE0GaqUmoQWyZTAh3//6plgAAlYEAAAAMQZ7HRRUsL/8AALKBAAAAEAGe5nRCvwAtfQDn9gtybCAAAAAQAZ7oakK/AC1xtd1lBuTYQAAAABJBmu1JqEFsmUwIb//+p4QAAScAAAAMQZ8LRRUsL/8AALKAAAAAEAGfKnRCvwAtfQDn9gtybCAAAAAQAZ8sakK/AC1xtd1lBuTYQQAAABJBmzFJqEFsmUwIZ//+nhAABH0AAAAMQZ9PRRUsL/8AALKBAAAAEAGfbnRCvwAtfQDn9gtybCAAAAAQAZ9wakK/AC1xtd1lBuTYQAAAABlBm3JJqEFsmUwIZ//+nhAA18hjn8Own1ptAAAAGEGbk0nhClJlMCGf/p4QANj6+7tObuLd/AAAABhBm7RJ4Q6JlMCG//6nhAA2PsHr2Z8EWEEAAAAZQZvVSeEPJlMCG//+p4QAUb0T/Vb5j8RSQQAAABlBm/ZJ4Q8mUwId//6plgA+aZCTcOCj5pbQAAAAIEGaGknhDyZTAh3//qmWAGUgsxaZn3siYzCEA/v6BrKBAAAAEEGeOEURPC//AHa/ZVFdKSEAAAAPAZ5XdEK/AKPmTuDZLxnhAAAAEAGeWWpCvwCjxucLpJSYpqkAAAATQZpeSahBaJlMCHf//qmWAACVgAAAAAxBnnxFESwv/wAAsoEAAAAQAZ6bdEK/AKP0DYM4xOLTVQAAABABnp1qQr8Ao8bnC6SUmKaoAAAAE0GagkmoQWyZTAh3//6plgAAlYAAAAAMQZ6gRRUsL/8AALKBAAAAEAGe33RCvwCj9A2DOMTi01QAAAAQAZ7BakK/AKPG5wuklJimqQAAABNBmsZJqEFsmUwId//+qZYAAJWAAAAADEGe5EUVLC//AACygQAAABABnwN0Qr8Ao/QNgzjE4tNVAAAAEAGfBWpCvwCjxucLpJSYpqkAAAAgQZsKSahBbJlMCHf//qmWBh9Lso/EnpWacMyLZZFROzEAAAARQZ8oRRUsL/8B6pymhBUyMCAAAAAQAZ9HdEK/AYmS14HTKbk4gAAAAA8Bn0lqQr8CkNa7uf9ckYEAAAATQZtOSahBbJlMCHf//qmWAACVgAAAAAxBn2xFFSwv/wAAsoAAAAAQAZ+LdEK/ApJAHP10DiyRgQAAABABn41qQr8CkNa7qq89EtaBAAAAE0GbkkmoQWyZTAh3//6plgAAlYEAAAAMQZ+wRRUsL/8AALKAAAAAEAGfz3RCvwKSQBz9dA4skYAAAAAQAZ/RakK/ApDWu6qvPRLWgQAAABNBm9ZJqEFsmUwId//+qZYAAJWAAAAADEGf9EUVLC//AACygAAAABABnhN0Qr8CkkAc/XQOLJGBAAAAEAGeFWpCvwKQ1ruqrz0S1oAAAAATQZoaSahBbJlMCHf//qmWAACVgQAAAAxBnjhFFSwv/wAAsoEAAAAQAZ5XdEK/ApJAHP10DiyRgAAAABABnllqQr8CkNa7qq89EtaBAAAAHEGaXkmoQWyZTAh3//6plgbSWYtMz3U3aX1xltAAAAAQQZ58RRUsL/8CAd8dznti4QAAAA8Bnpt0Qr8CkkAdB1LJa0EAAAAPAZ6dakK/Aq9nR+GzaPH3AAAAGUGagEmoQWyZTBRMO//+qZYG2Tm70qATNmAAAAAPAZ6/akK/Aq5WXIaQ70NbAAAAEkGapEnhClJlMCHf/qmWAACVgAAAAAxBnsJFNEwv/wAAsoEAAAAQAZ7hdEK/AYTOTvwAfbpTQAAAABABnuNqQr8BhM5O9nj7dKaBAAAAE0Ga6EmoQWiZTAh3//6plgAAlYEAAAAMQZ8GRREsL/8AALKBAAAAEAGfJXRCvwGEzk78AH26U0EAAAAQAZ8nakK/AYTOTvZ4+3SmgAAAABNBmyxJqEFsmUwId//+qZYAAJWAAAAADEGfSkUVLC//AACygQAAABABn2l0Qr8BhM5O/AB9ulNAAAAAEAGfa2pCvwGEzk72ePt0poAAAAATQZtwSahBbJlMCHf//qmWAACVgQAAAAxBn45FFSwv/wAAsoEAAAAQAZ+tdEK/AYTOTvwAfbpTQQAAABABn69qQr8BhM5O9nj7dKaAAAAAE0GbtEmoQWyZTAh3//6plgAAlYAAAAAUQZ/SRRUsL/8BG4YPXUxD2+MqxZUAAAAQAZ/xdEK/AYkBTPK/JTZQcAAAABABn/NqQr8BiXbhNxn16ag4AAAAE0Gb+EmoQWyZTAh3//6plgAAlYEAAAAMQZ4WRRUsL/8AALKAAAAAEAGeNXRCvwGEzk78AH26U0EAAAAQAZ43akK/AYTOTvZ4+3SmgQAAABNBmjxJqEFsmUwId//+qZYAAJWAAAAADEGeWkUVLC//AACygQAAABABnnl0Qr8Bk3k3R23wqOmAAAAAEAGee2pCvwGEzk72ePt0poEAAAASQZpgSahBbJlMCG///qeEAAEnAAAADEGenkUVLC//AACygAAAABABnr10Qr8BhM5O/AB9ulNAAAAAEAGev2pCvwGEzk72ePt0poEAAAASQZqkSahBbJlMCG///qeEAAEnAAAADEGewkUVLC//AACygQAAABABnuF0Qr8BhM5O/AB9ulNAAAAAEAGe42pCvwGEzk72ePt0poEAAAASQZroSahBbJlMCF///oywAASNAAAADEGfBkUVLC//AACygQAAABABnyV0Qr8BhM5O/AB9ulNBAAAAEAGfJ2pCvwGEzk72ePt0poAAAAAaQZspS6hCEFskRggoB/IB/YeAIV/+OEAAEXAAAAxYbW9vdgAAAGxtdmhkAAAAAAAAAAAAAAAAAAAD6AAAH5AAAQAAAQAAAAAAAAAAAAAAAAEAAAAAAAAAAAAAAAAAAAABAAAAAAAAAAAAAAAAAABAAAAAAAAAAAAAAAAAAAAAAAAAAAAAAAAAAAAAAAAAAgAAC4J0cmFrAAAAXHRraGQAAAADAAAAAAAAAAAAAAABAAAAAAAAH5AAAAAAAAAAAAAAAAAAAAAAAAEAAAAAAAAAAAAAAAAAAAABAAAAAAAAAAAAAAAAAABAAAAAARAAAAEQAAAAAAAkZWR0cwAAABxlbHN0AAAAAAAAAAEAAB+QAAAEAAABAAAAAAr6bWRpYQAAACBtZGhkAAAAAAAAAAAAAAAAAAAyAAABlABVxAAAAAAALWhkbHIAAAAAAAAAAHZpZGUAAAAAAAAAAAAAAABWaWRlb0hhbmRsZXIAAAAKpW1pbmYAAAAUdm1oZAAAAAEAAAAAAAAAAAAAACRkaW5mAAAAHGRyZWYAAAAAAAAAAQAAAAx1cmwgAAAAAQAACmVzdGJsAAAAlXN0c2QAAAAAAAAAAQAAAIVhdmMxAAAAAAAAAAEAAAAAAAAAAAAAAAAAAAAAARABEABIAAAASAAAAAAAAAABAAAAAAAAAAAAAAAAAAAAAAAAAAAAAAAAAAAAAAAAAAAAGP//AAAAL2F2Y0MB9AAN/+EAF2f0AA2RmygiEdCAAAADAIAAABkHihTLAQAFaOvjxEgAAAAYc3R0cwAAAAAAAAABAAAAygAAAgAAAAAUc3RzcwAAAAAAAAABAAAAAQAABjBjdHRzAAAAAAAAAMQAAAABAAAEAAAAAAEAAAYAAAAAAQAAAgAAAAABAAAKAAAAAAEAAAQAAAAAAQAAAAAAAAABAAACAAAAAAEAAAYAAAAAAQAAAgAAAAABAAAGAAAAAAEAAAIAAAAAAQAABgAAAAABAAACAAAAAAEAAAYAAAAAAQAAAgAAAAABAAAGAAAAAAEAAAIAAAAAAQAABgAAAAABAAACAAAAAAEAAAYAAAAAAQAAAgAAAAABAAAGAAAAAAEAAAIAAAAAAQAABgAAAAABAAACAAAAAAEAAAYAAAAAAQAAAgAAAAABAAAGAAAAAAEAAAIAAAAAAQAABgAAAAABAAACAAAAAAEAAAYAAAAAAQAAAgAAAAABAAAKAAAAAAEAAAQAAAAAAQAAAAAAAAABAAACAAAAAAEAAAYAAAAAAQAAAgAAAAABAAAGAAAAAAEAAAIAAAAAAQAABgAAAAABAAACAAAAAAEAAAYAAAAAAQAAAgAAAAABAAAKAAAAAAEAAAQAAAAAAQAAAAAAAAABAAACAAAAAAEAAAgAAAAAAgAAAgAAAAABAAAKAAAAAAEAAAQAAAAAAQAAAAAAAAABAAACAAAAAAEAAAoAAAAAAQAABAAAAAABAAAAAAAAAAEAAAIAAAAAAQAACgAAAAABAAAEAAAAAAEAAAAAAAAAAQAAAgAAAAABAAAKAAAAAAEAAAQAAAAAAQAAAAAAAAABAAACAAAAAAEAAAoAAAAAAQAABAAAAAABAAAAAAAAAAEAAAIAAAAAAQAACgAAAAABAAAEAAAAAAEAAAAAAAAAAQAAAgAAAAABAAAKAAAAAAEAAAQAAAAAAQAAAAAAAAABAAACAAAAAAIAAAQAAAAAAQAACgAAAAABAAAEAAAAAAEAAAAAAAAAAQAAAgAAAAABAAAKAAAAAAEAAAQAAAAAAQAAAAAAAAABAAACAAAAAAEAAAoAAAAAAQAABAAAAAABAAAAAAAAAAEAAAIAAAAAAQAACgAAAAABAAAEAAAAAAEAAAAAAAAAAQAAAgAAAAABAAAKAAAAAAEAAAQAAAAAAQAAAAAAAAABAAACAAAAAAEAAAoAAAAAAQAABAAAAAABAAAAAAAAAAEAAAIAAAAAAQAACgAAAAABAAAEAAAAAAEAAAAAAAAAAQAAAgAAAAABAAAKAAAAAAEAAAQAAAAAAQAAAAAAAAABAAACAAAAAAUAAAQAAAAAAQAACgAAAAABAAAEAAAAAAEAAAAAAAAAAQAAAgAAAAABAAAKAAAAAAEAAAQAAAAAAQAAAAAAAAABAAACAAAAAAEAAAoAAAAAAQAABAAAAAABAAAAAAAAAAEAAAIAAAAAAQAACgAAAAABAAAEAAAAAAEAAAAAAAAAAQAAAgAAAAABAAAKAAAAAAEAAAQAAAAAAQAAAAAAAAABAAACAAAAAAEAAAoAAAAAAQAABAAAAAABAAAAAAAAAAEAAAIAAAAAAQAACgAAAAABAAAEAAAAAAEAAAAAAAAAAQAAAgAAAAABAAAKAAAAAAEAAAQAAAAAAQAAAAAAAAABAAACAAAAAAEAAAoAAAAAAQAABAAAAAABAAAAAAAAAAEAAAIAAAAAAQAACgAAAAABAAAEAAAAAAEAAAAAAAAAAQAAAgAAAAABAAAGAAAAAAEAAAIAAAAAAQAACgAAAAABAAAEAAAAAAEAAAAAAAAAAQAAAgAAAAABAAAKAAAAAAEAAAQAAAAAAQAAAAAAAAABAAACAAAAAAEAAAoAAAAAAQAABAAAAAABAAAAAAAAAAEAAAIAAAAAAQAACgAAAAABAAAEAAAAAAEAAAAAAAAAAQAAAgAAAAABAAAKAAAAAAEAAAQAAAAAAQAAAAAAAAABAAACAAAAAAEAAAoAAAAAAQAABAAAAAABAAAAAAAAAAEAAAIAAAAAAQAACgAAAAABAAAEAAAAAAEAAAAAAAAAAQAAAgAAAAABAAAKAAAAAAEAAAQAAAAAAQAAAAAAAAABAAACAAAAAAEAAAoAAAAAAQAABAAAAAABAAAAAAAAAAEAAAIAAAAAAQAACgAAAAABAAAEAAAAAAEAAAAAAAAAAQAAAgAAAAABAAAEAAAAABxzdHNjAAAAAAAAAAEAAAABAAAAygAAAAEAAAM8c3RzegAAAAAAAAAAAAAAygAABVIAAAAmAAAAFAAAABQAAAAPAAAAFAAAABQAAAAWAAAAEwAAABYAAAATAAAAFgAAABMAAAAWAAAAEwAAABYAAAATAAAAFgAAABMAAAAWAAAAEwAAABYAAAATAAAAFgAAABMAAAAWAAAAEwAAABYAAAATAAAAFgAAABMAAAAXAAAAEwAAABUAAAAQAAAAFAAAABQAAAAWAAAAEwAAABYAAAATAAAAFwAAABMAAAAXAAAAEwAAABYAAAAQAAAAFAAAABQAAAAeAAAAFgAAABIAAAAbAAAAEgAAABQAAAATAAAAFwAAABAAAAAUAAAAEwAAABcAAAAQAAAAFAAAABMAAAAXAAAAEAAAABQAAAATAAAAIAAAABQAAAATAAAAFAAAABYAAAAQAAAAEwAAABMAAAAWAAAAEAAAABMAAAATAAAAHgAAAB0AAAAqAAAAGQAAABMAAAAUAAAAGwAAABIAAAAUAAAAFAAAABcAAAAQAAAAFAAAABQAAAAXAAAAEAAAABQAAAAUAAAAFwAAABAAAAAUAAAAFAAAABcAAAAQAAAAFAAAABQAAAAWAAAAEAAAABQAAAAUAAAAFgAAABAAAAAUAAAAFAAAAB0AAAAcAAAAHAAAAB0AAAAdAAAAJAAAABQAAAATAAAAFAAAABcAAAAQAAAAFAAAABQAAAAXAAAAEAAAABQAAAAUAAAAFwAAABAAAAAUAAAAFAAAACQAAAAVAAAAFAAAABMAAAAXAAAAEAAAABQAAAAUAAAAFwAAABAAAAAUAAAAFAAAABcAAAAQAAAAFAAAABQAAAAXAAAAEAAAABQAAAAUAAAAIAAAABQAAAATAAAAEwAAAB0AAAATAAAAFgAAABAAAAAUAAAAFAAAABcAAAAQAAAAFAAAABQAAAAXAAAAEAAAABQAAAAUAAAAFwAAABAAAAAUAAAAFAAAABcAAAAYAAAAFAAAABQAAAAXAAAAEAAAABQAAAAUAAAAFwAAABAAAAAUAAAAFAAAABYAAAAQAAAAFAAAABQAAAAWAAAAEAAAABQAAAAUAAAAFgAAABAAAAAUAAAAFAAAAB4AAAAUc3RjbwAAAAAAAAABAAAAMAAAAGJ1ZHRhAAAAWm1ldGEAAAAAAAAAIWhkbHIAAAAAAAAAAG1kaXJhcHBsAAAAAAAAAAAAAAAALWlsc3QAAAAlqXRvbwAAAB1kYXRhAAAAAQAAAABMYXZmNTcuODMuMTAw\" type=\"video/mp4\" />\n",
              "             </video>"
            ],
            "text/plain": [
              "<IPython.core.display.HTML object>"
            ]
          },
          "metadata": {
            "tags": []
          },
          "execution_count": 24
        }
      ]
    },
    {
      "cell_type": "markdown",
      "metadata": {
        "id": "0K_Jf8ZyyPe3",
        "colab_type": "text"
      },
      "source": [
        "***\n",
        "***\n",
        "__Question 8__ Implement the DQN training algorithm using a CNN (for example, 2 convolutional layers and one final fully connected layer)."
      ]
    },
    {
      "cell_type": "code",
      "metadata": {
        "id": "MqtvxyhayPe4",
        "colab_type": "code",
        "colab": {}
      },
      "source": [
        "class DQN_CNN(DQN):\n",
        "    def __init__(self, *args, lr=0.1, **kwargs):\n",
        "        super(DQN_CNN, self).__init__(*args, **kwargs)\n",
        "\n",
        "        input_shape = (5, 5, self.n_state)  # give the 2-neighborhood of cat\n",
        "      \n",
        "        inp = Input(shape=input_shape)\n",
        "        x = Conv2D(16, (3, 3), activation='relu')(inp)\n",
        "        x = Conv2D(16, (3, 3), activation='relu')(x)\n",
        "        x = Flatten()(x)\n",
        "        x = Dense(4, activation=\"linear\")(x) \n",
        "\n",
        "        model = Model(inputs=inp, outputs=x)\n",
        "        model.compile(adam(lr=lr, decay=1e-4), \"mse\")\n",
        "        self.model = model"
      ],
      "execution_count": 0,
      "outputs": []
    },
    {
      "cell_type": "code",
      "metadata": {
        "id": "jXwk_LtyyPe9",
        "colab_type": "code",
        "outputId": "caa06c0f-924e-48be-f9b8-903742c2fbdb",
        "colab": {
          "base_uri": "https://localhost:8080/",
          "height": 511
        }
      },
      "source": [
        "env = Environment(grid_size=size, max_time=T, temperature=0.3)\n",
        "agent = DQN_CNN(size, lr=1e-3, epsilon = 0.1, memory_size=2000, batch_size=32)\n",
        "train(agent, env, epochs_train, prefix='cnn_train')\n",
        "HTML(display_videos(f'cnn_train10.mp4'))"
      ],
      "execution_count": 0,
      "outputs": [
        {
          "output_type": "stream",
          "text": [
            "Epoch 000/020 | Loss 0.0018 | Win/lose count 4.0/9.0 (-5.0)\n",
            "Epoch 001/020 | Loss 0.0049 | Win/lose count 3.5/4.0 (-0.5)\n",
            "Epoch 002/020 | Loss 0.0019 | Win/lose count 4.0/2.0 (2.0)\n",
            "Epoch 003/020 | Loss 0.0607 | Win/lose count 2.5/5.0 (-2.5)\n",
            "Epoch 004/020 | Loss 0.0015 | Win/lose count 4.0/1.0 (3.0)\n",
            "Epoch 005/020 | Loss 0.0022 | Win/lose count 4.5/3.0 (1.5)\n",
            "Epoch 006/020 | Loss 0.0049 | Win/lose count 5.0/3.0 (2.0)\n",
            "Epoch 007/020 | Loss 0.0554 | Win/lose count 6.0/5.0 (1.0)\n",
            "Epoch 008/020 | Loss 0.0028 | Win/lose count 4.0/4.0 (0.0)\n",
            "Epoch 009/020 | Loss 0.0027 | Win/lose count 12.0/1.0 (11.0)\n",
            "Epoch 010/020 | Loss 0.0227 | Win/lose count 10.5/2.0 (8.5)\n",
            "Epoch 011/020 | Loss 0.0017 | Win/lose count 9.0/3.0 (6.0)\n",
            "Epoch 012/020 | Loss 0.0017 | Win/lose count 10.0/3.0 (7.0)\n",
            "Epoch 013/020 | Loss 0.0036 | Win/lose count 5.5/2.0 (3.5)\n",
            "Epoch 014/020 | Loss 0.0030 | Win/lose count 9.0/1.0 (8.0)\n",
            "Epoch 015/020 | Loss 0.0010 | Win/lose count 11.0/3.0 (8.0)\n",
            "Epoch 016/020 | Loss 0.0602 | Win/lose count 8.5/5.0 (3.5)\n",
            "Epoch 017/020 | Loss 0.0024 | Win/lose count 11.0/2.0 (9.0)\n",
            "Epoch 018/020 | Loss 0.0021 | Win/lose count 10.5/0 (10.5)\n",
            "Epoch 019/020 | Loss 0.0024 | Win/lose count 12.5/1.0 (11.5)\n"
          ],
          "name": "stdout"
        },
        {
          "output_type": "execute_result",
          "data": {
            "text/html": [
              "<video alt=\"test\" controls>\n",
              "                <source src=\"data:video/mp4;base64,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\" type=\"video/mp4\" />\n",
              "             </video>"
            ],
            "text/plain": [
              "<IPython.core.display.HTML object>"
            ]
          },
          "metadata": {
            "tags": []
          },
          "execution_count": 34
        }
      ]
    },
    {
      "cell_type": "markdown",
      "metadata": {
        "id": "iGvjA0dUyPfD",
        "colab_type": "text"
      },
      "source": [
        "***\n",
        "***\n",
        "__Question 9__ Test both algorithms and compare their performances. Which issue(s) do you observe? Observe also different behaviors by changing the temperature."
      ]
    },
    {
      "cell_type": "code",
      "metadata": {
        "id": "DIhF6iDxyPfF",
        "colab_type": "code",
        "outputId": "1aea8675-3b6e-4f41-8ffa-7e41fa027393",
        "colab": {
          "base_uri": "https://localhost:8080/",
          "height": 1000
        }
      },
      "source": [
        "temp = np.arange(0.1,1,0.1)\n",
        "\n",
        "for i in range (len(temp)):\n",
        "    env = Environment(grid_size=size, max_time=T,temperature=temp[i])\n",
        "    agent_cnn = DQN_CNN(size, lr=.1, epsilon = 0.1, memory_size=2000, batch_size = 32)\n",
        "    agent_cnn.load(name_weights='cnn_trainmodel.h5',name_model='cnn_trainmodel.json')\n",
        "\n",
        "    agent_fc = DQN_FC(size, lr=.1, epsilon = 0.1, memory_size=2000, batch_size = 32)\n",
        "    agent_cnn.load(name_weights='fc_trainmodel.h5',name_model='fc_trainmodel.json')\n",
        "    print('Temperature of {}'.format(temp[i]))\n",
        "    print('  Test of the CNN')\n",
        "    test(agent_cnn,env,epochs_test,prefix='cnn_test')\n",
        "    print('  Test of the FC')\n",
        "    test(agent_fc,env,epochs_test,prefix='fc_test')"
      ],
      "execution_count": 0,
      "outputs": [
        {
          "output_type": "stream",
          "text": [
            "Temperature of 0.1\n",
            "  Test of the CNN\n",
            "Win/lose count 5.0/4.0. Average score (1.0)\n",
            "Win/lose count 2.5/0. Average score (1.75)\n",
            "Win/lose count 1.5/0. Average score (1.6666666666666667)\n",
            "Win/lose count 3.5/3.0. Average score (1.375)\n",
            "Win/lose count 1.5/0. Average score (1.4)\n",
            "Win/lose count 2.0/0. Average score (1.5)\n",
            "Win/lose count 2.5/2.0. Average score (1.3571428571428572)\n",
            "Win/lose count 0.5/1.0. Average score (1.125)\n",
            "Win/lose count 2.0/1.0. Average score (1.1111111111111112)\n",
            "Win/lose count 2.5/0. Average score (1.25)\n",
            "Win/lose count 1.0/0. Average score (1.2272727272727273)\n",
            "Win/lose count 1.5/1.0. Average score (1.1666666666666667)\n",
            "Win/lose count 0.5/1.0. Average score (1.0384615384615385)\n",
            "Win/lose count 0.5/0. Average score (1.0)\n",
            "Win/lose count 0.5/0. Average score (0.9666666666666667)\n",
            "Win/lose count 1.0/3.0. Average score (0.78125)\n",
            "Win/lose count 1.5/1.0. Average score (0.7647058823529411)\n",
            "Win/lose count 1.5/0. Average score (0.8055555555555556)\n",
            "Win/lose count 1.0/1.0. Average score (0.7631578947368421)\n",
            "Win/lose count 2.5/0. Average score (0.85)\n",
            "Final score: 0.85\n",
            "  Test of the FC\n",
            "Win/lose count 1.0/1.0. Average score (0.0)\n",
            "Win/lose count 1.0/0. Average score (0.5)\n",
            "Win/lose count 2.0/1.0. Average score (0.6666666666666666)\n",
            "Win/lose count 0.5/2.0. Average score (0.125)\n",
            "Win/lose count 0.5/3.0. Average score (-0.4)\n",
            "Win/lose count 0.5/1.0. Average score (-0.4166666666666667)\n",
            "Win/lose count 1.5/1.0. Average score (-0.2857142857142857)\n",
            "Win/lose count 1.5/2.0. Average score (-0.3125)\n",
            "Win/lose count 1.0/3.0. Average score (-0.5)\n",
            "Win/lose count 2.5/1.0. Average score (-0.3)\n",
            "Win/lose count 2.0/3.0. Average score (-0.36363636363636365)\n",
            "Win/lose count 1.0/0. Average score (-0.25)\n",
            "Win/lose count 0.5/2.0. Average score (-0.34615384615384615)\n",
            "Win/lose count 0.5/0. Average score (-0.2857142857142857)\n",
            "Win/lose count 0/0. Average score (-0.26666666666666666)\n",
            "Win/lose count 0/3.0. Average score (-0.4375)\n",
            "Win/lose count 1.0/1.0. Average score (-0.4117647058823529)\n",
            "Win/lose count 2.5/2.0. Average score (-0.3611111111111111)\n",
            "Win/lose count 1.0/2.0. Average score (-0.39473684210526316)\n",
            "Win/lose count 0.5/0. Average score (-0.35)\n",
            "Final score: -0.35\n",
            "Temperature of 0.2\n",
            "  Test of the CNN\n",
            "Win/lose count 4.0/1.0. Average score (3.0)\n",
            "Win/lose count 2.5/3.0. Average score (1.25)\n",
            "Win/lose count 5.0/1.0. Average score (2.1666666666666665)\n",
            "Win/lose count 4.0/2.0. Average score (2.125)\n",
            "Win/lose count 4.0/0. Average score (2.5)\n",
            "Win/lose count 4.0/1.0. Average score (2.5833333333333335)\n",
            "Win/lose count 3.0/1.0. Average score (2.5)\n",
            "Win/lose count 4.0/1.0. Average score (2.5625)\n",
            "Win/lose count 3.5/0. Average score (2.6666666666666665)\n",
            "Win/lose count 1.5/0. Average score (2.55)\n",
            "Win/lose count 4.0/0. Average score (2.6818181818181817)\n",
            "Win/lose count 2.5/0. Average score (2.6666666666666665)\n",
            "Win/lose count 5.5/1.0. Average score (2.8076923076923075)\n",
            "Win/lose count 2.0/2.0. Average score (2.607142857142857)\n",
            "Win/lose count 1.0/2.0. Average score (2.3666666666666667)\n",
            "Win/lose count 1.0/0. Average score (2.28125)\n",
            "Win/lose count 7.0/5.0. Average score (2.264705882352941)\n",
            "Win/lose count 2.5/2.0. Average score (2.1666666666666665)\n",
            "Win/lose count 7.5/1.0. Average score (2.3947368421052633)\n",
            "Win/lose count 2.0/0. Average score (2.375)\n",
            "Final score: 2.375\n",
            "  Test of the FC\n",
            "Win/lose count 1.0/7.0. Average score (-6.0)\n",
            "Win/lose count 1.0/4.0. Average score (-4.5)\n",
            "Win/lose count 1.0/6.0. Average score (-4.666666666666667)\n",
            "Win/lose count 1.0/3.0. Average score (-4.0)\n",
            "Win/lose count 0/1.0. Average score (-3.4)\n",
            "Win/lose count 2.5/6.0. Average score (-3.4166666666666665)\n",
            "Win/lose count 1.5/3.0. Average score (-3.142857142857143)\n",
            "Win/lose count 2.5/5.0. Average score (-3.0625)\n",
            "Win/lose count 2.5/2.0. Average score (-2.6666666666666665)\n",
            "Win/lose count 2.0/2.0. Average score (-2.4)\n",
            "Win/lose count 0.5/6.0. Average score (-2.6818181818181817)\n",
            "Win/lose count 2.5/3.0. Average score (-2.5)\n",
            "Win/lose count 1.5/1.0. Average score (-2.269230769230769)\n",
            "Win/lose count 3.5/4.0. Average score (-2.142857142857143)\n",
            "Win/lose count 3.5/7.0. Average score (-2.2333333333333334)\n",
            "Win/lose count 1.5/1.0. Average score (-2.0625)\n",
            "Win/lose count 1.0/3.0. Average score (-2.0588235294117645)\n",
            "Win/lose count 2.5/3.0. Average score (-1.9722222222222223)\n",
            "Win/lose count 1.0/3.0. Average score (-1.9736842105263157)\n",
            "Win/lose count 1.5/3.0. Average score (-1.95)\n",
            "Final score: -1.95\n",
            "Temperature of 0.30000000000000004\n",
            "  Test of the CNN\n",
            "Win/lose count 4.5/2.0. Average score (2.5)\n",
            "Win/lose count 6.5/1.0. Average score (4.0)\n",
            "Win/lose count 9.0/1.0. Average score (5.333333333333333)\n",
            "Win/lose count 5.0/3.0. Average score (4.5)\n",
            "Win/lose count 3.0/0. Average score (4.2)\n",
            "Win/lose count 8.5/5.0. Average score (4.083333333333333)\n",
            "Win/lose count 3.5/2.0. Average score (3.7142857142857144)\n",
            "Win/lose count 5.5/3.0. Average score (3.5625)\n",
            "Win/lose count 5.0/5.0. Average score (3.1666666666666665)\n",
            "Win/lose count 7.0/4.0. Average score (3.15)\n",
            "Win/lose count 10.0/4.0. Average score (3.409090909090909)\n",
            "Win/lose count 2.0/1.0. Average score (3.2083333333333335)\n",
            "Win/lose count 8.0/0. Average score (3.576923076923077)\n",
            "Win/lose count 4.5/6.0. Average score (3.2142857142857144)\n",
            "Win/lose count 3.5/2.0. Average score (3.1)\n",
            "Win/lose count 8.0/4.0. Average score (3.15625)\n",
            "Win/lose count 6.5/3.0. Average score (3.176470588235294)\n",
            "Win/lose count 3.0/5.0. Average score (2.888888888888889)\n",
            "Win/lose count 10.0/5.0. Average score (3.0)\n",
            "Win/lose count 0/3.0. Average score (2.7)\n",
            "Final score: 2.7\n",
            "  Test of the FC\n",
            "Win/lose count 4.0/9.0. Average score (-5.0)\n",
            "Win/lose count 3.5/8.0. Average score (-4.75)\n",
            "Win/lose count 4.5/5.0. Average score (-3.3333333333333335)\n",
            "Win/lose count 2.5/6.0. Average score (-3.375)\n",
            "Win/lose count 4.5/11.0. Average score (-4.0)\n",
            "Win/lose count 3.0/6.0. Average score (-3.8333333333333335)\n",
            "Win/lose count 3.0/3.0. Average score (-3.2857142857142856)\n",
            "Win/lose count 2.0/1.0. Average score (-2.75)\n",
            "Win/lose count 5.5/4.0. Average score (-2.2777777777777777)\n",
            "Win/lose count 5.0/6.0. Average score (-2.15)\n",
            "Win/lose count 3.5/6.0. Average score (-2.1818181818181817)\n",
            "Win/lose count 4.5/12.0. Average score (-2.625)\n",
            "Win/lose count 3.5/2.0. Average score (-2.3076923076923075)\n",
            "Win/lose count 1.0/1.0. Average score (-2.142857142857143)\n",
            "Win/lose count 3.5/7.0. Average score (-2.2333333333333334)\n",
            "Win/lose count 6.0/14.0. Average score (-2.59375)\n",
            "Win/lose count 3.5/4.0. Average score (-2.4705882352941178)\n",
            "Win/lose count 4.0/5.0. Average score (-2.388888888888889)\n",
            "Win/lose count 2.0/2.0. Average score (-2.263157894736842)\n",
            "Win/lose count 8.0/9.0. Average score (-2.2)\n",
            "Final score: -2.2\n",
            "Temperature of 0.4\n",
            "  Test of the CNN\n",
            "Win/lose count 5.5/4.0. Average score (1.5)\n",
            "Win/lose count 8.5/1.0. Average score (4.5)\n",
            "Win/lose count 4.5/6.0. Average score (2.5)\n",
            "Win/lose count 4.5/2.0. Average score (2.5)\n",
            "Win/lose count 12.0/2.0. Average score (4.0)\n",
            "Win/lose count 7.5/2.0. Average score (4.25)\n",
            "Win/lose count 11.5/2.0. Average score (5.0)\n",
            "Win/lose count 7.0/1.0. Average score (5.125)\n",
            "Win/lose count 13.5/2.0. Average score (5.833333333333333)\n",
            "Win/lose count 7.5/0. Average score (6.0)\n",
            "Win/lose count 5.5/3.0. Average score (5.681818181818182)\n",
            "Win/lose count 7.5/0. Average score (5.833333333333333)\n",
            "Win/lose count 5.0/1.0. Average score (5.6923076923076925)\n",
            "Win/lose count 2.5/1.0. Average score (5.392857142857143)\n",
            "Win/lose count 4.5/0. Average score (5.333333333333333)\n",
            "Win/lose count 7.5/5.0. Average score (5.15625)\n",
            "Win/lose count 9.5/4.0. Average score (5.176470588235294)\n",
            "Win/lose count 8.0/1.0. Average score (5.277777777777778)\n",
            "Win/lose count 11.0/4.0. Average score (5.368421052631579)\n",
            "Win/lose count 8.0/0. Average score (5.5)\n",
            "Final score: 5.5\n",
            "  Test of the FC\n",
            "Win/lose count 4.0/8.0. Average score (-4.0)\n",
            "Win/lose count 9.0/5.0. Average score (0.0)\n",
            "Win/lose count 6.0/4.0. Average score (0.6666666666666666)\n",
            "Win/lose count 13.5/6.0. Average score (2.375)\n",
            "Win/lose count 5.5/7.0. Average score (1.6)\n",
            "Win/lose count 10.0/11.0. Average score (1.1666666666666667)\n",
            "Win/lose count 9.0/5.0. Average score (1.5714285714285714)\n",
            "Win/lose count 1.0/2.0. Average score (1.25)\n",
            "Win/lose count 10.5/6.0. Average score (1.6111111111111112)\n",
            "Win/lose count 6.5/10.0. Average score (1.1)\n",
            "Win/lose count 5.0/6.0. Average score (0.9090909090909091)\n",
            "Win/lose count 7.5/9.0. Average score (0.7083333333333334)\n",
            "Win/lose count 9.5/9.0. Average score (0.6923076923076923)\n",
            "Win/lose count 4.0/2.0. Average score (0.7857142857142857)\n",
            "Win/lose count 4.0/10.0. Average score (0.3333333333333333)\n",
            "Win/lose count 3.5/10.0. Average score (-0.09375)\n",
            "Win/lose count 3.0/3.0. Average score (-0.08823529411764706)\n",
            "Win/lose count 7.5/12.0. Average score (-0.3333333333333333)\n",
            "Win/lose count 10.0/4.0. Average score (0.0)\n",
            "Win/lose count 1.5/1.0. Average score (0.025)\n",
            "Final score: 0.025\n",
            "Temperature of 0.5\n",
            "  Test of the CNN\n",
            "Win/lose count 7.5/4.0. Average score (3.5)\n",
            "Win/lose count 9.0/4.0. Average score (4.25)\n",
            "Win/lose count 5.0/1.0. Average score (4.166666666666667)\n",
            "Win/lose count 4.5/0. Average score (4.25)\n",
            "Win/lose count 8.5/4.0. Average score (4.3)\n",
            "Win/lose count 16.0/4.0. Average score (5.583333333333333)\n",
            "Win/lose count 6.5/4.0. Average score (5.142857142857143)\n",
            "Win/lose count 11.5/2.0. Average score (5.6875)\n",
            "Win/lose count 10.5/3.0. Average score (5.888888888888889)\n",
            "Win/lose count 4.5/6.0. Average score (5.15)\n",
            "Win/lose count 5.5/1.0. Average score (5.090909090909091)\n",
            "Win/lose count 7.5/1.0. Average score (5.208333333333333)\n",
            "Win/lose count 13.0/2.0. Average score (5.653846153846154)\n",
            "Win/lose count 7.0/2.0. Average score (5.607142857142857)\n",
            "Win/lose count 4.0/1.0. Average score (5.433333333333334)\n",
            "Win/lose count 7.0/4.0. Average score (5.28125)\n",
            "Win/lose count 17.0/6.0. Average score (5.617647058823529)\n",
            "Win/lose count 11.5/4.0. Average score (5.722222222222222)\n",
            "Win/lose count 5.0/7.0. Average score (5.315789473684211)\n",
            "Win/lose count 13.5/3.0. Average score (5.575)\n",
            "Final score: 5.575\n",
            "  Test of the FC\n",
            "Win/lose count 7.0/6.0. Average score (1.0)\n",
            "Win/lose count 7.0/8.0. Average score (0.0)\n",
            "Win/lose count 8.5/8.0. Average score (0.16666666666666666)\n",
            "Win/lose count 3.5/4.0. Average score (0.0)\n",
            "Win/lose count 6.5/3.0. Average score (0.7)\n",
            "Win/lose count 6.0/13.0. Average score (-0.5833333333333334)\n",
            "Win/lose count 9.0/5.0. Average score (0.07142857142857142)\n",
            "Win/lose count 4.5/2.0. Average score (0.375)\n",
            "Win/lose count 4.0/7.0. Average score (0.0)\n",
            "Win/lose count 2.0/2.0. Average score (0.0)\n",
            "Win/lose count 4.0/8.0. Average score (-0.36363636363636365)\n",
            "Win/lose count 7.5/8.0. Average score (-0.375)\n",
            "Win/lose count 5.0/11.0. Average score (-0.8076923076923077)\n",
            "Win/lose count 4.0/3.0. Average score (-0.6785714285714286)\n",
            "Win/lose count 5.0/5.0. Average score (-0.6333333333333333)\n",
            "Win/lose count 6.0/4.0. Average score (-0.46875)\n",
            "Win/lose count 5.0/7.0. Average score (-0.5588235294117647)\n",
            "Win/lose count 5.5/11.0. Average score (-0.8333333333333334)\n",
            "Win/lose count 5.5/7.0. Average score (-0.868421052631579)\n",
            "Win/lose count 4.0/3.0. Average score (-0.775)\n",
            "Final score: -0.775\n",
            "Temperature of 0.6\n",
            "  Test of the CNN\n",
            "Win/lose count 8.5/4.0. Average score (4.5)\n",
            "Win/lose count 6.0/2.0. Average score (4.25)\n",
            "Win/lose count 16.0/4.0. Average score (6.833333333333333)\n",
            "Win/lose count 12.5/2.0. Average score (7.75)\n",
            "Win/lose count 8.0/0. Average score (7.8)\n",
            "Win/lose count 17.5/1.0. Average score (9.25)\n",
            "Win/lose count 7.5/5.0. Average score (8.285714285714286)\n",
            "Win/lose count 13.5/1.0. Average score (8.8125)\n",
            "Win/lose count 1.0/1.0. Average score (7.833333333333333)\n",
            "Win/lose count 9.0/3.0. Average score (7.65)\n",
            "Win/lose count 6.5/2.0. Average score (7.363636363636363)\n",
            "Win/lose count 12.0/2.0. Average score (7.583333333333333)\n",
            "Win/lose count 10.5/4.0. Average score (7.5)\n",
            "Win/lose count 2.5/1.0. Average score (7.071428571428571)\n",
            "Win/lose count 12.5/1.0. Average score (7.366666666666666)\n",
            "Win/lose count 14.5/4.0. Average score (7.5625)\n",
            "Win/lose count 11.0/4.0. Average score (7.529411764705882)\n",
            "Win/lose count 6.5/3.0. Average score (7.305555555555555)\n",
            "Win/lose count 8.0/5.0. Average score (7.078947368421052)\n",
            "Win/lose count 5.5/0. Average score (7.0)\n",
            "Final score: 7.0\n",
            "  Test of the FC\n",
            "Win/lose count 6.5/7.0. Average score (-0.5)\n",
            "Win/lose count 7.0/4.0. Average score (1.25)\n",
            "Win/lose count 8.0/9.0. Average score (0.5)\n",
            "Win/lose count 3.0/2.0. Average score (0.625)\n",
            "Win/lose count 8.0/6.0. Average score (0.9)\n",
            "Win/lose count 2.5/3.0. Average score (0.6666666666666666)\n",
            "Win/lose count 10.0/10.0. Average score (0.5714285714285714)\n",
            "Win/lose count 8.5/5.0. Average score (0.9375)\n",
            "Win/lose count 8.0/9.0. Average score (0.7222222222222222)\n",
            "Win/lose count 8.5/8.0. Average score (0.7)\n",
            "Win/lose count 4.0/4.0. Average score (0.6363636363636364)\n",
            "Win/lose count 5.0/2.0. Average score (0.8333333333333334)\n",
            "Win/lose count 8.0/8.0. Average score (0.7692307692307693)\n",
            "Win/lose count 13.0/5.0. Average score (1.2857142857142858)\n",
            "Win/lose count 8.5/5.0. Average score (1.4333333333333333)\n",
            "Win/lose count 7.0/2.0. Average score (1.65625)\n",
            "Win/lose count 10.5/7.0. Average score (1.7647058823529411)\n",
            "Win/lose count 6.5/9.0. Average score (1.5277777777777777)\n",
            "Win/lose count 9.0/7.0. Average score (1.5526315789473684)\n",
            "Win/lose count 7.0/7.0. Average score (1.475)\n",
            "Final score: 1.475\n",
            "Temperature of 0.7000000000000001\n",
            "  Test of the CNN\n",
            "Win/lose count 3.5/1.0. Average score (2.5)\n",
            "Win/lose count 12.5/1.0. Average score (7.0)\n",
            "Win/lose count 18.5/3.0. Average score (9.833333333333334)\n",
            "Win/lose count 6.5/3.0. Average score (8.25)\n",
            "Win/lose count 5.0/4.0. Average score (6.8)\n",
            "Win/lose count 20.0/3.0. Average score (8.5)\n",
            "Win/lose count 15.0/1.0. Average score (9.285714285714286)\n",
            "Win/lose count 18.0/1.0. Average score (10.25)\n",
            "Win/lose count 21.0/2.0. Average score (11.222222222222221)\n",
            "Win/lose count 4.0/2.0. Average score (10.3)\n",
            "Win/lose count 6.0/1.0. Average score (9.818181818181818)\n",
            "Win/lose count 5.5/1.0. Average score (9.375)\n",
            "Win/lose count 8.0/2.0. Average score (9.115384615384615)\n",
            "Win/lose count 10.0/5.0. Average score (8.821428571428571)\n",
            "Win/lose count 7.5/1.0. Average score (8.666666666666666)\n",
            "Win/lose count 11.0/1.0. Average score (8.75)\n",
            "Win/lose count 15.5/1.0. Average score (9.088235294117647)\n",
            "Win/lose count 15.0/5.0. Average score (9.13888888888889)\n",
            "Win/lose count 8.5/0. Average score (9.105263157894736)\n",
            "Win/lose count 8.0/1.0. Average score (9.0)\n",
            "Final score: 9.0\n",
            "  Test of the FC\n",
            "Win/lose count 6.5/4.0. Average score (2.5)\n",
            "Win/lose count 7.5/2.0. Average score (4.0)\n",
            "Win/lose count 6.5/6.0. Average score (2.8333333333333335)\n",
            "Win/lose count 7.0/5.0. Average score (2.625)\n",
            "Win/lose count 6.0/3.0. Average score (2.7)\n",
            "Win/lose count 6.5/2.0. Average score (3.0)\n",
            "Win/lose count 9.0/7.0. Average score (2.857142857142857)\n",
            "Win/lose count 6.0/3.0. Average score (2.875)\n",
            "Win/lose count 7.0/6.0. Average score (2.6666666666666665)\n",
            "Win/lose count 3.5/3.0. Average score (2.45)\n",
            "Win/lose count 7.0/4.0. Average score (2.5)\n",
            "Win/lose count 8.0/8.0. Average score (2.2916666666666665)\n",
            "Win/lose count 10.5/5.0. Average score (2.5384615384615383)\n",
            "Win/lose count 6.0/5.0. Average score (2.4285714285714284)\n",
            "Win/lose count 6.0/10.0. Average score (2.0)\n",
            "Win/lose count 4.0/4.0. Average score (1.875)\n",
            "Win/lose count 8.0/6.0. Average score (1.8823529411764706)\n",
            "Win/lose count 8.5/6.0. Average score (1.9166666666666667)\n",
            "Win/lose count 8.0/9.0. Average score (1.763157894736842)\n",
            "Win/lose count 9.5/3.0. Average score (2.0)\n",
            "Final score: 2.0\n",
            "Temperature of 0.8\n",
            "  Test of the CNN\n",
            "Win/lose count 10.5/0. Average score (10.5)\n",
            "Win/lose count 10.0/2.0. Average score (9.25)\n",
            "Win/lose count 12.5/1.0. Average score (10.0)\n",
            "Win/lose count 12.5/3.0. Average score (9.875)\n",
            "Win/lose count 4.5/0. Average score (8.8)\n",
            "Win/lose count 17.0/1.0. Average score (10.0)\n",
            "Win/lose count 13.0/1.0. Average score (10.285714285714286)\n",
            "Win/lose count 7.5/1.0. Average score (9.8125)\n",
            "Win/lose count 6.0/3.0. Average score (9.055555555555555)\n",
            "Win/lose count 8.5/2.0. Average score (8.8)\n",
            "Win/lose count 10.5/0. Average score (8.954545454545455)\n",
            "Win/lose count 4.5/1.0. Average score (8.5)\n",
            "Win/lose count 17.5/1.0. Average score (9.115384615384615)\n",
            "Win/lose count 14.5/2.0. Average score (9.357142857142858)\n",
            "Win/lose count 14.5/2.0. Average score (9.566666666666666)\n",
            "Win/lose count 6.5/0. Average score (9.375)\n",
            "Win/lose count 6.0/0. Average score (9.176470588235293)\n",
            "Win/lose count 13.5/3.0. Average score (9.25)\n",
            "Win/lose count 7.0/2.0. Average score (9.026315789473685)\n",
            "Win/lose count 9.5/1.0. Average score (9.0)\n",
            "Final score: 9.0\n",
            "  Test of the FC\n",
            "Win/lose count 11.5/4.0. Average score (7.5)\n",
            "Win/lose count 6.5/3.0. Average score (5.5)\n",
            "Win/lose count 10.5/4.0. Average score (5.833333333333333)\n",
            "Win/lose count 4.5/1.0. Average score (5.25)\n",
            "Win/lose count 4.5/2.0. Average score (4.7)\n",
            "Win/lose count 19.0/6.0. Average score (6.083333333333333)\n",
            "Win/lose count 11.5/5.0. Average score (6.142857142857143)\n",
            "Win/lose count 8.5/7.0. Average score (5.5625)\n",
            "Win/lose count 14.0/7.0. Average score (5.722222222222222)\n",
            "Win/lose count 8.0/4.0. Average score (5.55)\n",
            "Win/lose count 6.5/3.0. Average score (5.363636363636363)\n",
            "Win/lose count 14.0/7.0. Average score (5.5)\n",
            "Win/lose count 11.0/7.0. Average score (5.384615384615385)\n",
            "Win/lose count 12.0/1.0. Average score (5.785714285714286)\n",
            "Win/lose count 3.0/5.0. Average score (5.266666666666667)\n",
            "Win/lose count 4.0/0. Average score (5.1875)\n",
            "Win/lose count 6.0/3.0. Average score (5.0588235294117645)\n",
            "Win/lose count 9.5/2.0. Average score (5.194444444444445)\n",
            "Win/lose count 11.0/2.0. Average score (5.394736842105263)\n",
            "Win/lose count 9.5/4.0. Average score (5.4)\n",
            "Final score: 5.4\n",
            "Temperature of 0.9\n",
            "  Test of the CNN\n",
            "Win/lose count 15.0/2.0. Average score (13.0)\n",
            "Win/lose count 19.0/0. Average score (16.0)\n",
            "Win/lose count 12.0/0. Average score (14.666666666666666)\n",
            "Win/lose count 9.0/1.0. Average score (13.0)\n",
            "Win/lose count 10.0/3.0. Average score (11.8)\n",
            "Win/lose count 13.0/1.0. Average score (11.833333333333334)\n",
            "Win/lose count 15.0/0. Average score (12.285714285714286)\n",
            "Win/lose count 9.5/1.0. Average score (11.8125)\n",
            "Win/lose count 6.5/0. Average score (11.222222222222221)\n",
            "Win/lose count 15.0/1.0. Average score (11.5)\n",
            "Win/lose count 13.5/1.0. Average score (11.590909090909092)\n",
            "Win/lose count 10.5/0. Average score (11.5)\n",
            "Win/lose count 12.5/1.0. Average score (11.5)\n",
            "Win/lose count 9.5/0. Average score (11.357142857142858)\n",
            "Win/lose count 9.0/2.0. Average score (11.066666666666666)\n",
            "Win/lose count 13.0/1.0. Average score (11.125)\n",
            "Win/lose count 23.5/1.0. Average score (11.794117647058824)\n",
            "Win/lose count 11.5/1.0. Average score (11.722222222222221)\n",
            "Win/lose count 10.5/2.0. Average score (11.552631578947368)\n",
            "Win/lose count 5.5/1.0. Average score (11.2)\n",
            "Final score: 11.2\n",
            "  Test of the FC\n",
            "Win/lose count 11.5/1.0. Average score (10.5)\n",
            "Win/lose count 11.5/1.0. Average score (10.5)\n",
            "Win/lose count 8.5/3.0. Average score (8.833333333333334)\n",
            "Win/lose count 6.5/3.0. Average score (7.5)\n",
            "Win/lose count 8.5/2.0. Average score (7.3)\n",
            "Win/lose count 10.0/4.0. Average score (7.083333333333333)\n",
            "Win/lose count 11.0/2.0. Average score (7.357142857142857)\n",
            "Win/lose count 10.0/8.0. Average score (6.6875)\n",
            "Win/lose count 14.0/1.0. Average score (7.388888888888889)\n",
            "Win/lose count 14.0/1.0. Average score (7.95)\n",
            "Win/lose count 8.5/2.0. Average score (7.818181818181818)\n",
            "Win/lose count 8.0/1.0. Average score (7.75)\n",
            "Win/lose count 11.5/0. Average score (8.038461538461538)\n",
            "Win/lose count 11.5/3.0. Average score (8.071428571428571)\n",
            "Win/lose count 6.0/2.0. Average score (7.8)\n",
            "Win/lose count 4.5/2.0. Average score (7.46875)\n",
            "Win/lose count 6.5/2.0. Average score (7.294117647058823)\n",
            "Win/lose count 10.5/3.0. Average score (7.305555555555555)\n",
            "Win/lose count 5.0/1.0. Average score (7.131578947368421)\n",
            "Win/lose count 9.0/5.0. Average score (6.975)\n",
            "Final score: 6.975\n"
          ],
          "name": "stdout"
        }
      ]
    },
    {
      "cell_type": "code",
      "metadata": {
        "id": "coLrOf5eyPfK",
        "colab_type": "code",
        "outputId": "5b979349-7478-4c67-9aae-a6cf26af5dcb",
        "colab": {
          "base_uri": "https://localhost:8080/",
          "height": 171
        }
      },
      "source": [
        "HTML(display_videos('cnn_test10.mp4'))"
      ],
      "execution_count": 0,
      "outputs": [
        {
          "output_type": "execute_result",
          "data": {
            "text/html": [
              "<video alt=\"test\" controls>\n",
              "                <source src=\"data:video/mp4;base64,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\" type=\"video/mp4\" />\n",
              "             </video>"
            ],
            "text/plain": [
              "<IPython.core.display.HTML object>"
            ]
          },
          "metadata": {
            "tags": []
          },
          "execution_count": 36
        }
      ]
    },
    {
      "cell_type": "code",
      "metadata": {
        "id": "jJ8HlXZ6yPfQ",
        "colab_type": "code",
        "outputId": "b5e19f39-f1ca-48e5-b9a2-843506324394",
        "colab": {
          "base_uri": "https://localhost:8080/",
          "height": 171
        }
      },
      "source": [
        "HTML(display_videos('fc_test10.mp4'))"
      ],
      "execution_count": 0,
      "outputs": [
        {
          "output_type": "execute_result",
          "data": {
            "text/html": [
              "<video alt=\"test\" controls>\n",
              "                <source src=\"data:video/mp4;base64,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\" type=\"video/mp4\" />\n",
              "             </video>"
            ],
            "text/plain": [
              "<IPython.core.display.HTML object>"
            ]
          },
          "metadata": {
            "tags": []
          },
          "execution_count": 43
        }
      ]
    },
    {
      "cell_type": "markdown",
      "metadata": {
        "id": "4nfS4xiFyPfT",
        "colab_type": "text"
      },
      "source": [
        "The CNN architecture performs globally better than the fully connected (FC) network. The final score with the CNN policy increases with the temperature, unlike the final score with the FC policy that remains quite unstable.\n",
        "\n",
        "With both though, the agent seems to get stuck in a group of cells and not explore sufficiently. This will not decrease the score, however the agent is losing time circling between the same couple of cells. This phenomenon is intensified when the cat cannot see a positive reward from where it is, i.e. when the temperature is low."
      ]
    },
    {
      "cell_type": "markdown",
      "metadata": {
        "id": "WSKnQBNuyPfU",
        "colab_type": "text"
      },
      "source": [
        "***\n",
        "\n",
        "The algorithm tends to not explore the map which can be an issue. We propose two ideas in order to encourage exploration:\n",
        "1. Incorporating a decreasing $\\epsilon$-greedy exploration. You can use the method ```set_epsilon```\n",
        "2. Append via the environment a new state that describes if a cell has been visited or not\n",
        "\n",
        "***\n",
        "__Question 10__ Design a new ```train_explore``` function and environment class ```EnvironmentExploring``` to tackle the issue of exploration.\n",
        "\n"
      ]
    },
    {
      "cell_type": "code",
      "metadata": {
        "id": "uCOndBbuyPfV",
        "colab_type": "code",
        "colab": {}
      },
      "source": [
        "def train_explore(agent,env,epoch,prefix=''):\n",
        "    # Number of won games\n",
        "    score = 0\n",
        "    loss = 0\n",
        "    base_epsilon = agent.epsilon\n",
        "\n",
        "    for e in range(epoch):\n",
        "        # At each epoch, we restart to a fresh game and get the initial state\n",
        "        state = env.reset()\n",
        "        # This assumes that the games will terminate\n",
        "        game_over = False\n",
        "\n",
        "        win = 0\n",
        "        lose = 0\n",
        "        pos_malus = 0\n",
        "\n",
        "        while not game_over:\n",
        "            # The agent performs an action\n",
        "            action = agent.act(state)\n",
        "\n",
        "            # Apply an action to the environment, get the next state, the reward\n",
        "            # and if the games end\n",
        "            prev_state = state\n",
        "            state, reward, game_over = env.act(action)\n",
        "\n",
        "            # Update the counters\n",
        "            pos_malus += env.last_pos_malus\n",
        "            reward_malus = reward + env.last_pos_malus\n",
        "\n",
        "            if reward_malus > 0:\n",
        "                win = win + reward_malus\n",
        "            if reward_malus < 0:\n",
        "                lose = lose -reward_malus\n",
        "\n",
        "            # Apply the reinforcement strategy\n",
        "            loss = agent.reinforce(prev_state, state,  action, reward, game_over)\n",
        "\n",
        "        # Save as a mp4\n",
        "        if e % 10 == 0:\n",
        "            env.draw(prefix+str(e))\n",
        "\n",
        "        # Update stats\n",
        "        score += win-lose\n",
        "\n",
        "        print(\"Epoch {:03d}/{:03d} | Loss {:.4f} | Win/lose count {}/{} ({})\"\n",
        "              .format(e, epoch, loss, win, lose, win-lose))\n",
        "        agent.save(name_weights=prefix+'model.h5',name_model=prefix+'model.json')\n",
        "        \n",
        "class EnvironmentExploring(Environment):\n",
        "    def __init__(self, grid_size=10, max_time=500, temperature=0.1):\n",
        "        super(EnvironmentExploring, self).__init__(grid_size=grid_size, max_time=max_time, temperature=temperature)\n",
        "        \n",
        "        self.malus_position = np.zeros((self.grid_size, self.grid_size))\n",
        "        self.last_pos_malus = 0  # remember the previous position malus\n",
        "\n",
        "    def reset(self):\n",
        "        state = super(EnvironmentExploring, self).reset() # reset env\n",
        "\n",
        "        self.malus_position = np.zeros((self.grid_size, self.grid_size)) # reset malus\n",
        "        \n",
        "        state = np.concatenate((self.malus_position.reshape(self.grid_size, self.grid_size,1),self.board.reshape(self.grid_size, self.grid_size,1),self.position.reshape(self.grid_size, self.grid_size,1)),axis=2)\n",
        "        # like in parent method, truncate state to a (5,5) window around the agent\n",
        "        state = state[self.x-2:self.x+3,self.y-2:self.y+3,:]\n",
        "        \n",
        "        return state\n",
        "\n",
        "    def act(self, action):\n",
        "        state, reward, game_over = super(EnvironmentExploring, self).act(action)\n",
        "        \n",
        "        if train:\n",
        "            reward -= self.malus_position[self.x, self.y] # penalize if cell has been visited\n",
        "\n",
        "        self.last_pos_malus = self.malus_position[self.x, self.y]  # remember the last position malus\n",
        "        self.malus_position[self.x, self.y] = 0.25  # cell has been visited\n",
        "        malus_position =  self.malus_position[self.x-2:self.x+3, self.y-2:self.y+3, np.newaxis] # restricting to seen cells\n",
        "        state = np.concatenate((self.malus_position.reshape(self.grid_size, self.grid_size,1),self.board.reshape(self.grid_size, self.grid_size,1),self.position.reshape(self.grid_size, self.grid_size,1)),axis=2)\n",
        "        # like in parent method, truncate state to a (5,5) window around the agent\n",
        "        state = state[self.x-2:self.x+3,self.y-2:self.y+3,:]\n",
        "\n",
        "        return state, reward, game_over"
      ],
      "execution_count": 0,
      "outputs": []
    },
    {
      "cell_type": "code",
      "metadata": {
        "id": "u1DL0XUmyPfY",
        "colab_type": "code",
        "outputId": "63116256-183d-408c-bc5e-1f900fc4d49f",
        "colab": {
          "base_uri": "https://localhost:8080/",
          "height": 511
        }
      },
      "source": [
        "# Training\n",
        "env = EnvironmentExploring(grid_size=size, max_time=T, temperature=0.3)\n",
        "agent = DQN_CNN(size, lr=1e-3, epsilon=0.1, memory_size=2000, batch_size=32, n_state=3)\n",
        "train_explore(agent, env, epochs_train, prefix='cnn_train_explore')\n",
        "HTML(display_videos('cnn_train_explore10.mp4'))"
      ],
      "execution_count": 0,
      "outputs": [
        {
          "output_type": "stream",
          "text": [
            "Epoch 000/020 | Loss 0.0112 | Win/lose count 2.0/5.0 (-3.0)\n",
            "Epoch 001/020 | Loss 0.0109 | Win/lose count 12.5/13.0 (-0.5)\n",
            "Epoch 002/020 | Loss 0.0065 | Win/lose count 8.0/4.0 (4.0)\n",
            "Epoch 003/020 | Loss 0.0214 | Win/lose count 19.5/2.0 (17.5)\n",
            "Epoch 004/020 | Loss 0.0075 | Win/lose count 18.0/4.0 (14.0)\n",
            "Epoch 005/020 | Loss 0.0503 | Win/lose count 25.0/5.0 (20.0)\n",
            "Epoch 006/020 | Loss 0.0103 | Win/lose count 18.5/3.0 (15.5)\n",
            "Epoch 007/020 | Loss 0.0088 | Win/lose count 19.0/6.0 (13.0)\n",
            "Epoch 008/020 | Loss 0.0115 | Win/lose count 23.5/6.0 (17.5)\n",
            "Epoch 009/020 | Loss 0.0137 | Win/lose count 20.5/4.0 (16.5)\n",
            "Epoch 010/020 | Loss 0.0094 | Win/lose count 20.5/7.0 (13.5)\n",
            "Epoch 011/020 | Loss 0.0077 | Win/lose count 23.0/6.0 (17.0)\n",
            "Epoch 012/020 | Loss 0.0219 | Win/lose count 25.0/0 (25.0)\n",
            "Epoch 013/020 | Loss 0.0114 | Win/lose count 18.5/5.0 (13.5)\n",
            "Epoch 014/020 | Loss 0.0075 | Win/lose count 18.0/6.0 (12.0)\n",
            "Epoch 015/020 | Loss 0.0103 | Win/lose count 24.5/2.0 (22.5)\n",
            "Epoch 016/020 | Loss 0.0106 | Win/lose count 20.5/4.0 (16.5)\n",
            "Epoch 017/020 | Loss 0.0099 | Win/lose count 24.5/7.0 (17.5)\n",
            "Epoch 018/020 | Loss 0.0118 | Win/lose count 21.5/7.0 (14.5)\n",
            "Epoch 019/020 | Loss 0.0123 | Win/lose count 20.0/4.0 (16.0)\n"
          ],
          "name": "stdout"
        },
        {
          "output_type": "execute_result",
          "data": {
            "text/html": [
              "<video alt=\"test\" controls>\n",
              "                <source src=\"data:video/mp4;base64,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\" type=\"video/mp4\" />\n",
              "             </video>"
            ],
            "text/plain": [
              "<IPython.core.display.HTML object>"
            ]
          },
          "metadata": {
            "tags": []
          },
          "execution_count": 67
        }
      ]
    },
    {
      "cell_type": "code",
      "metadata": {
        "id": "uhAXJp7cyPfa",
        "colab_type": "code",
        "outputId": "a76f1b7e-3354-4184-ad18-ce0c66df5601",
        "colab": {
          "base_uri": "https://localhost:8080/",
          "height": 528
        }
      },
      "source": [
        "# Evaluation\n",
        "test(agent,env,epochs_test,prefix='cnn_test_explore')\n",
        "HTML(display_videos('cnn_test_explore10.mp4'))"
      ],
      "execution_count": 0,
      "outputs": [
        {
          "output_type": "stream",
          "text": [
            "Win/lose count 18.5/35.75. Average score (-17.25)\n",
            "Win/lose count 20.5/32.5. Average score (-14.625)\n",
            "Win/lose count 20.0/38.75. Average score (-16.0)\n",
            "Win/lose count 16.0/34.0. Average score (-16.5)\n",
            "Win/lose count 7.0/44.0. Average score (-20.6)\n",
            "Win/lose count 20.5/28.5. Average score (-18.5)\n",
            "Win/lose count 21.5/32.25. Average score (-17.392857142857142)\n",
            "Win/lose count 20.0/34.25. Average score (-17.0)\n",
            "Win/lose count 24.0/29.5. Average score (-15.722222222222221)\n",
            "Win/lose count 21.5/33.25. Average score (-15.325)\n",
            "Win/lose count 18.0/34.5. Average score (-15.431818181818182)\n",
            "Win/lose count 15.0/36.0. Average score (-15.895833333333334)\n",
            "Win/lose count 15.5/37.0. Average score (-16.326923076923077)\n",
            "Win/lose count 20.0/31.5. Average score (-15.982142857142858)\n",
            "Win/lose count 10.0/45.25. Average score (-17.266666666666666)\n",
            "Win/lose count 25.5/28.0. Average score (-16.34375)\n",
            "Win/lose count 20.0/32.5. Average score (-16.11764705882353)\n",
            "Win/lose count 21.0/33.0. Average score (-15.88888888888889)\n",
            "Win/lose count 25.5/27.25. Average score (-15.144736842105264)\n",
            "Win/lose count 11.5/39.0. Average score (-15.7625)\n",
            "Final score: -15.7625\n"
          ],
          "name": "stdout"
        },
        {
          "output_type": "execute_result",
          "data": {
            "text/html": [
              "<video alt=\"test\" controls>\n",
              "                <source src=\"data:video/mp4;base64,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\" type=\"video/mp4\" />\n",
              "             </video>"
            ],
            "text/plain": [
              "<IPython.core.display.HTML object>"
            ]
          },
          "metadata": {
            "tags": []
          },
          "execution_count": 69
        }
      ]
    },
    {
      "cell_type": "markdown",
      "metadata": {
        "id": "_090d1ILvX6E",
        "colab_type": "text"
      },
      "source": [
        "Increasing the position malus from 0.1 to 0.25 improved the results a lot because an exploration penalty encourages the agent to visit unseen cells."
      ]
    },
    {
      "cell_type": "markdown",
      "metadata": {
        "id": "aI5H0_RiyPfd",
        "colab_type": "text"
      },
      "source": [
        "***\n",
        "***\n",
        "__BONUS question__ Use the expert DQN from the previous question to generate some winning games. Train a model that mimicks its behavior. Compare the performances."
      ]
    },
    {
      "cell_type": "markdown",
      "metadata": {
        "id": "H6sElUEByPfe",
        "colab_type": "text"
      },
      "source": [
        ""
      ]
    },
    {
      "cell_type": "markdown",
      "metadata": {
        "id": "VH_hYNXgyPfg",
        "colab_type": "text"
      },
      "source": [
        "***"
      ]
    }
  ]
}